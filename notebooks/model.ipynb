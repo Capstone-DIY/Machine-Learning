{
 "cells": [
  {
   "cell_type": "markdown",
   "metadata": {
    "id": "T8WAE54QT7q7"
   },
   "source": [
    "## PREPROCESSING"
   ]
  },
  {
   "cell_type": "markdown",
   "metadata": {
    "id": "IQqn3KZ-UIle"
   },
   "source": [
    "### Install and Importing Library/Package"
   ]
  },
  {
   "cell_type": "code",
   "execution_count": 3,
   "metadata": {
    "id": "DDqwcGnUBdBY"
   },
   "outputs": [
    {
     "name": "stdout",
     "output_type": "stream",
     "text": [
      "Requirement already satisfied: tensorflow==2.17.1 in /usr/local/python/3.12.1/lib/python3.12/site-packages (2.17.1)\n",
      "Requirement already satisfied: absl-py>=1.0.0 in /usr/local/python/3.12.1/lib/python3.12/site-packages (from tensorflow==2.17.1) (2.1.0)\n",
      "Requirement already satisfied: astunparse>=1.6.0 in /usr/local/python/3.12.1/lib/python3.12/site-packages (from tensorflow==2.17.1) (1.6.3)\n",
      "Requirement already satisfied: flatbuffers>=24.3.25 in /usr/local/python/3.12.1/lib/python3.12/site-packages (from tensorflow==2.17.1) (24.3.25)\n",
      "Requirement already satisfied: gast!=0.5.0,!=0.5.1,!=0.5.2,>=0.2.1 in /usr/local/python/3.12.1/lib/python3.12/site-packages (from tensorflow==2.17.1) (0.6.0)\n",
      "Requirement already satisfied: google-pasta>=0.1.1 in /usr/local/python/3.12.1/lib/python3.12/site-packages (from tensorflow==2.17.1) (0.2.0)\n",
      "Requirement already satisfied: h5py>=3.10.0 in /usr/local/python/3.12.1/lib/python3.12/site-packages (from tensorflow==2.17.1) (3.12.1)\n",
      "Requirement already satisfied: libclang>=13.0.0 in /usr/local/python/3.12.1/lib/python3.12/site-packages (from tensorflow==2.17.1) (18.1.1)\n",
      "Requirement already satisfied: ml-dtypes<0.5.0,>=0.3.1 in /usr/local/python/3.12.1/lib/python3.12/site-packages (from tensorflow==2.17.1) (0.4.1)\n",
      "Requirement already satisfied: opt-einsum>=2.3.2 in /usr/local/python/3.12.1/lib/python3.12/site-packages (from tensorflow==2.17.1) (3.4.0)\n",
      "Requirement already satisfied: packaging in /home/codespace/.local/lib/python3.12/site-packages (from tensorflow==2.17.1) (24.1)\n",
      "Requirement already satisfied: protobuf!=4.21.0,!=4.21.1,!=4.21.2,!=4.21.3,!=4.21.4,!=4.21.5,<5.0.0dev,>=3.20.3 in /usr/local/python/3.12.1/lib/python3.12/site-packages (from tensorflow==2.17.1) (4.25.5)\n",
      "Requirement already satisfied: requests<3,>=2.21.0 in /home/codespace/.local/lib/python3.12/site-packages (from tensorflow==2.17.1) (2.32.3)\n",
      "Requirement already satisfied: setuptools in /home/codespace/.local/lib/python3.12/site-packages (from tensorflow==2.17.1) (75.1.0)\n",
      "Requirement already satisfied: six>=1.12.0 in /home/codespace/.local/lib/python3.12/site-packages (from tensorflow==2.17.1) (1.16.0)\n",
      "Requirement already satisfied: termcolor>=1.1.0 in /usr/local/python/3.12.1/lib/python3.12/site-packages (from tensorflow==2.17.1) (2.5.0)\n",
      "Requirement already satisfied: typing-extensions>=3.6.6 in /home/codespace/.local/lib/python3.12/site-packages (from tensorflow==2.17.1) (4.9.0)\n",
      "Requirement already satisfied: wrapt>=1.11.0 in /usr/local/python/3.12.1/lib/python3.12/site-packages (from tensorflow==2.17.1) (1.17.0)\n",
      "Requirement already satisfied: grpcio<2.0,>=1.24.3 in /usr/local/python/3.12.1/lib/python3.12/site-packages (from tensorflow==2.17.1) (1.68.0)\n",
      "Requirement already satisfied: tensorboard<2.18,>=2.17 in /usr/local/python/3.12.1/lib/python3.12/site-packages (from tensorflow==2.17.1) (2.17.1)\n",
      "Requirement already satisfied: keras>=3.2.0 in /usr/local/python/3.12.1/lib/python3.12/site-packages (from tensorflow==2.17.1) (3.6.0)\n",
      "Requirement already satisfied: numpy<2.0.0,>=1.26.0 in /usr/local/python/3.12.1/lib/python3.12/site-packages (from tensorflow==2.17.1) (1.26.4)\n",
      "Requirement already satisfied: wheel<1.0,>=0.23.0 in /usr/local/python/3.12.1/lib/python3.12/site-packages (from astunparse>=1.6.0->tensorflow==2.17.1) (0.45.1)\n",
      "Requirement already satisfied: rich in /usr/local/python/3.12.1/lib/python3.12/site-packages (from keras>=3.2.0->tensorflow==2.17.1) (13.9.4)\n",
      "Requirement already satisfied: namex in /usr/local/python/3.12.1/lib/python3.12/site-packages (from keras>=3.2.0->tensorflow==2.17.1) (0.0.8)\n",
      "Requirement already satisfied: optree in /usr/local/python/3.12.1/lib/python3.12/site-packages (from keras>=3.2.0->tensorflow==2.17.1) (0.13.1)\n",
      "Requirement already satisfied: charset-normalizer<4,>=2 in /home/codespace/.local/lib/python3.12/site-packages (from requests<3,>=2.21.0->tensorflow==2.17.1) (3.3.2)\n",
      "Requirement already satisfied: idna<4,>=2.5 in /home/codespace/.local/lib/python3.12/site-packages (from requests<3,>=2.21.0->tensorflow==2.17.1) (3.10)\n",
      "Requirement already satisfied: urllib3<3,>=1.21.1 in /home/codespace/.local/lib/python3.12/site-packages (from requests<3,>=2.21.0->tensorflow==2.17.1) (2.2.3)\n",
      "Requirement already satisfied: certifi>=2017.4.17 in /home/codespace/.local/lib/python3.12/site-packages (from requests<3,>=2.21.0->tensorflow==2.17.1) (2024.8.30)\n",
      "Requirement already satisfied: markdown>=2.6.8 in /usr/local/python/3.12.1/lib/python3.12/site-packages (from tensorboard<2.18,>=2.17->tensorflow==2.17.1) (3.7)\n",
      "Requirement already satisfied: tensorboard-data-server<0.8.0,>=0.7.0 in /usr/local/python/3.12.1/lib/python3.12/site-packages (from tensorboard<2.18,>=2.17->tensorflow==2.17.1) (0.7.2)\n",
      "Requirement already satisfied: werkzeug>=1.0.1 in /usr/local/python/3.12.1/lib/python3.12/site-packages (from tensorboard<2.18,>=2.17->tensorflow==2.17.1) (3.1.3)\n",
      "Requirement already satisfied: MarkupSafe>=2.1.1 in /home/codespace/.local/lib/python3.12/site-packages (from werkzeug>=1.0.1->tensorboard<2.18,>=2.17->tensorflow==2.17.1) (2.1.5)\n",
      "Requirement already satisfied: markdown-it-py>=2.2.0 in /usr/local/python/3.12.1/lib/python3.12/site-packages (from rich->keras>=3.2.0->tensorflow==2.17.1) (3.0.0)\n",
      "Requirement already satisfied: pygments<3.0.0,>=2.13.0 in /home/codespace/.local/lib/python3.12/site-packages (from rich->keras>=3.2.0->tensorflow==2.17.1) (2.18.0)\n",
      "Requirement already satisfied: mdurl~=0.1 in /usr/local/python/3.12.1/lib/python3.12/site-packages (from markdown-it-py>=2.2.0->rich->keras>=3.2.0->tensorflow==2.17.1) (0.1.2)\n",
      "\n",
      "\u001b[1m[\u001b[0m\u001b[34;49mnotice\u001b[0m\u001b[1;39;49m]\u001b[0m\u001b[39;49m A new release of pip is available: \u001b[0m\u001b[31;49m24.2\u001b[0m\u001b[39;49m -> \u001b[0m\u001b[32;49m24.3.1\u001b[0m\n",
      "\u001b[1m[\u001b[0m\u001b[34;49mnotice\u001b[0m\u001b[1;39;49m]\u001b[0m\u001b[39;49m To update, run: \u001b[0m\u001b[32;49mpython -m pip install --upgrade pip\u001b[0m\n",
      "Note: you may need to restart the kernel to use updated packages.\n"
     ]
    }
   ],
   "source": [
    "# Installing Library / Packages\n",
    "%pip install tensorflow==2.17.1"
   ]
  },
  {
   "cell_type": "code",
   "execution_count": null,
   "metadata": {},
   "outputs": [],
   "source": [
    "\n",
    "%pip install lime"
   ]
  },
  {
   "cell_type": "code",
   "execution_count": null,
   "metadata": {},
   "outputs": [],
   "source": [
    "%pip install gensim"
   ]
  },
  {
   "cell_type": "code",
   "execution_count": 4,
   "metadata": {},
   "outputs": [
    {
     "name": "stderr",
     "output_type": "stream",
     "text": [
      "2024-11-24 06:14:40.194562: I external/local_xla/xla/tsl/cuda/cudart_stub.cc:32] Could not find cuda drivers on your machine, GPU will not be used.\n",
      "2024-11-24 06:14:40.197895: I external/local_xla/xla/tsl/cuda/cudart_stub.cc:32] Could not find cuda drivers on your machine, GPU will not be used.\n",
      "2024-11-24 06:14:40.206980: E external/local_xla/xla/stream_executor/cuda/cuda_fft.cc:485] Unable to register cuFFT factory: Attempting to register factory for plugin cuFFT when one has already been registered\n",
      "2024-11-24 06:14:40.221880: E external/local_xla/xla/stream_executor/cuda/cuda_dnn.cc:8454] Unable to register cuDNN factory: Attempting to register factory for plugin cuDNN when one has already been registered\n",
      "2024-11-24 06:14:40.226105: E external/local_xla/xla/stream_executor/cuda/cuda_blas.cc:1452] Unable to register cuBLAS factory: Attempting to register factory for plugin cuBLAS when one has already been registered\n",
      "2024-11-24 06:14:40.237700: I tensorflow/core/platform/cpu_feature_guard.cc:210] This TensorFlow binary is optimized to use available CPU instructions in performance-critical operations.\n",
      "To enable the following instructions: AVX2 FMA, in other operations, rebuild TensorFlow with the appropriate compiler flags.\n",
      "2024-11-24 06:14:41.293399: W tensorflow/compiler/tf2tensorrt/utils/py_utils.cc:38] TF-TRT Warning: Could not find TensorRT\n"
     ]
    },
    {
     "name": "stdout",
     "output_type": "stream",
     "text": [
      "Num GPUs Available:  0\n"
     ]
    },
    {
     "ename": "NameError",
     "evalue": "name 'tf' is not defined",
     "output_type": "error",
     "traceback": [
      "\u001b[0;31m---------------------------------------------------------------------------\u001b[0m",
      "\u001b[0;31mNameError\u001b[0m                                 Traceback (most recent call last)",
      "Cell \u001b[0;32mIn[4], line 3\u001b[0m\n\u001b[1;32m      1\u001b[0m \u001b[38;5;28;01mimport\u001b[39;00m \u001b[38;5;21;01mtensorflow\u001b[39;00m\n\u001b[1;32m      2\u001b[0m \u001b[38;5;28mprint\u001b[39m(\u001b[38;5;124m\"\u001b[39m\u001b[38;5;124mNum GPUs Available: \u001b[39m\u001b[38;5;124m\"\u001b[39m, \u001b[38;5;28mlen\u001b[39m(tensorflow\u001b[38;5;241m.\u001b[39mconfig\u001b[38;5;241m.\u001b[39mlist_physical_devices(\u001b[38;5;124m'\u001b[39m\u001b[38;5;124mGPU\u001b[39m\u001b[38;5;124m'\u001b[39m)))\n\u001b[0;32m----> 3\u001b[0m \u001b[38;5;28mprint\u001b[39m(\u001b[43mtf\u001b[49m\u001b[38;5;241m.\u001b[39m__version__)\n",
      "\u001b[0;31mNameError\u001b[0m: name 'tf' is not defined"
     ]
    }
   ],
   "source": [
    "import tensorflow\n",
    "print(\"Num GPUs Available: \", len(tensorflow.config.list_physical_devices('GPU')))\n",
    "print(tf.__version__)"
   ]
  },
  {
   "cell_type": "code",
   "execution_count": null,
   "metadata": {
    "_cell_guid": "b1076dfc-b9ad-4769-8c92-a6c4dae69d19",
    "_uuid": "8f2839f25d086af736a60e9eeb907d3b93b6e0e5",
    "colab": {
     "base_uri": "https://localhost:8080/"
    },
    "execution": {
     "iopub.execute_input": "2024-10-10T05:28:37.91271Z",
     "iopub.status.busy": "2024-10-10T05:28:37.912374Z",
     "iopub.status.idle": "2024-10-10T05:29:03.075647Z",
     "shell.execute_reply": "2024-10-10T05:29:03.07463Z",
     "shell.execute_reply.started": "2024-10-10T05:28:37.912676Z"
    },
    "id": "PzxFjIa53Nc2",
    "outputId": "33a64039-1cba-4492-df74-8ca0aa2fc10f",
    "trusted": true
   },
   "outputs": [],
   "source": [
    "import pandas as pd\n",
    "import gensim\n",
    "import numpy as np\n",
    "import matplotlib.pyplot as plt\n",
    "\n",
    "from sklearn.preprocessing import LabelEncoder\n",
    "\n",
    "from tensorflow.keras.utils import to_categorical\n",
    "from tensorflow.keras.preprocessing.text import Tokenizer\n",
    "from tensorflow.keras.preprocessing.sequence import pad_sequences\n",
    "\n",
    "from tensorflow.keras.optimizers import Adam\n",
    "from tensorflow.keras.models import Sequential\n",
    "from tensorflow.keras.callbacks import EarlyStopping\n",
    "from tensorflow.keras.layers import Dense, LSTM, Embedding, Bidirectional\n",
    "from tensorflow.keras.utils import plot_model\n",
    "from sklearn.metrics import classification_report\n",
    "\n",
    "#Lime\n",
    "from lime import lime_text\n",
    "from lime.lime_text import LimeTextExplainer\n",
    "from lime.lime_text import IndexedString,IndexedCharacters\n",
    "from lime.lime_base import LimeBase\n"
   ]
  },
  {
   "cell_type": "markdown",
   "metadata": {
    "id": "c_hMempHi9qN"
   },
   "source": [
    "### Membuat Model"
   ]
  },
  {
   "cell_type": "markdown",
   "metadata": {},
   "source": [
    "#### Mengimport file hasil preprocessing"
   ]
  },
  {
   "cell_type": "code",
   "execution_count": null,
   "metadata": {},
   "outputs": [],
   "source": [
    "# Load CSV files into DataFrames\n",
    "data_train = pd.read_csv('../datasets/output_preprocess/data_train.csv')\n",
    "data_test = pd.read_csv('../datasets/output_preprocess/data_test.csv')\n",
    "data_val = pd.read_csv('../datasets/output_preprocess/data_val.csv')"
   ]
  },
  {
   "cell_type": "code",
   "execution_count": null,
   "metadata": {
    "execution": {
     "iopub.execute_input": "2024-10-10T05:29:11.179069Z",
     "iopub.status.busy": "2024-10-10T05:29:11.178429Z",
     "iopub.status.idle": "2024-10-10T05:29:11.184788Z",
     "shell.execute_reply": "2024-10-10T05:29:11.183781Z",
     "shell.execute_reply.started": "2024-10-10T05:29:11.179025Z"
    },
    "id": "Zdhx3YrG3NdM",
    "trusted": true
   },
   "outputs": [],
   "source": [
    "#Splitting the text from the labels\n",
    "X_train = data_train['text']\n",
    "y_train = data_train['label']\n",
    "\n",
    "X_test = data_test['text']\n",
    "y_test = data_test['label']\n",
    "\n",
    "X_val = data_val['text']\n",
    "y_val = data_val['label']"
   ]
  },
  {
   "cell_type": "markdown",
   "metadata": {
    "id": "SK4F2od3jSCd"
   },
   "source": [
    "#### Encode Labels"
   ]
  },
  {
   "cell_type": "code",
   "execution_count": null,
   "metadata": {
    "execution": {
     "iopub.execute_input": "2024-10-10T05:29:11.186348Z",
     "iopub.status.busy": "2024-10-10T05:29:11.185962Z",
     "iopub.status.idle": "2024-10-10T05:29:11.199856Z",
     "shell.execute_reply": "2024-10-10T05:29:11.199006Z",
     "shell.execute_reply.started": "2024-10-10T05:29:11.186316Z"
    },
    "id": "r1SeMczfR_OO",
    "trusted": true
   },
   "outputs": [],
   "source": [
    "le = LabelEncoder()\n",
    "y_train = le.fit_transform(y_train)\n",
    "y_test = le.transform(y_test)\n",
    "y_val = le.transform(y_val)"
   ]
  },
  {
   "cell_type": "code",
   "execution_count": null,
   "metadata": {
    "execution": {
     "iopub.execute_input": "2024-10-10T05:29:11.201185Z",
     "iopub.status.busy": "2024-10-10T05:29:11.200922Z",
     "iopub.status.idle": "2024-10-10T05:29:11.210932Z",
     "shell.execute_reply": "2024-10-10T05:29:11.210033Z",
     "shell.execute_reply.started": "2024-10-10T05:29:11.201157Z"
    },
    "id": "1bHHwU35R_R2",
    "trusted": true
   },
   "outputs": [],
   "source": [
    "#Convert the class vector (integers) to binary class matrix\n",
    "y_train = to_categorical(y_train)\n",
    "y_test = to_categorical(y_test)\n",
    "y_val = to_categorical(y_val)"
   ]
  },
  {
   "cell_type": "code",
   "execution_count": null,
   "metadata": {
    "execution": {
     "iopub.execute_input": "2024-10-10T05:29:11.212849Z",
     "iopub.status.busy": "2024-10-10T05:29:11.212198Z",
     "iopub.status.idle": "2024-10-10T05:29:11.855084Z",
     "shell.execute_reply": "2024-10-10T05:29:11.854063Z",
     "shell.execute_reply.started": "2024-10-10T05:29:11.212803Z"
    },
    "id": "jUpgwjwkQXWS",
    "trusted": true
   },
   "outputs": [],
   "source": [
    "MAX_LENGTH = 500\n",
    "\n",
    "# Create a tokenizer\n",
    "tokenizer = Tokenizer(oov_token='UNK')\n",
    "# Fit the tokenizer on the training data\n",
    "tokenizer.fit_on_texts(X_train)\n",
    "# Convert text to sequences of tokens\n",
    "X_train_seq = tokenizer.texts_to_sequences(X_train)\n",
    "X_test_seq = tokenizer.texts_to_sequences(X_test)\n",
    "X_val_seq = tokenizer.texts_to_sequences(X_val)\n",
    "# Pad sequences to ensure equal length\n",
    "X_train_pad = pad_sequences(X_train_seq, maxlen=MAX_LENGTH, truncating='pre')\n",
    "X_test_pad = pad_sequences(X_test_seq, maxlen=MAX_LENGTH, truncating='pre')\n",
    "X_val_pad = pad_sequences(X_val_seq, maxlen=MAX_LENGTH, truncating='pre')"
   ]
  },
  {
   "cell_type": "code",
   "execution_count": null,
   "metadata": {
    "execution": {
     "iopub.execute_input": "2024-10-10T05:29:11.85676Z",
     "iopub.status.busy": "2024-10-10T05:29:11.856361Z",
     "iopub.status.idle": "2024-10-10T05:29:12.778095Z",
     "shell.execute_reply": "2024-10-10T05:29:12.777226Z",
     "shell.execute_reply.started": "2024-10-10T05:29:11.85672Z"
    },
    "id": "-nIiqByRQZOi",
    "trusted": true
   },
   "outputs": [],
   "source": [
    "# Train Word2Vec model\n",
    "sentences = [text.split() for text in X_train]\n",
    "w2v_model = gensim.models.Word2Vec(sentences, vector_size=200, window=5, min_count=5, workers=4)\n",
    "\n",
    "# Create embedding matrix\n",
    "embedding_matrix = np.zeros((len(tokenizer.word_index) + 1, 200))\n",
    "for word, i in tokenizer.word_index.items():\n",
    "    if word in w2v_model.wv:\n",
    "        embedding_matrix[i] = w2v_model.wv[word]"
   ]
  },
  {
   "cell_type": "markdown",
   "metadata": {},
   "source": [
    "#### Membangun arsitekteur NN"
   ]
  },
  {
   "cell_type": "code",
   "execution_count": null,
   "metadata": {
    "colab": {
     "base_uri": "https://localhost:8080/",
     "height": 341
    },
    "execution": {
     "iopub.execute_input": "2024-10-10T05:29:12.779715Z",
     "iopub.status.busy": "2024-10-10T05:29:12.779341Z",
     "iopub.status.idle": "2024-10-10T05:29:13.700042Z",
     "shell.execute_reply": "2024-10-10T05:29:13.699172Z",
     "shell.execute_reply.started": "2024-10-10T05:29:12.779677Z"
    },
    "id": "0uHMk5sbTAXr",
    "outputId": "aba2d144-1d6a-4b38-a675-30d18948e622",
    "trusted": true
   },
   "outputs": [],
   "source": [
    "# mendefinisikan vocabSize\n",
    "vocabSize = len(tokenizer.word_index) + 1  # +1 for the padding token or OOV token\n",
    "\n",
    "model = Sequential()\n",
    "model.add(Embedding(vocabSize, 200, weights=[embedding_matrix])) # Use X_train_pad to get shape\n",
    "model.add(Bidirectional(LSTM(256, dropout=0.2,recurrent_dropout=0.2, return_sequences=True)))\n",
    "model.add(Bidirectional(LSTM(128, dropout=0.2,recurrent_dropout=0.2)))\n",
    "model.add(Dense(6, activation='softmax'))\n",
    "\n",
    "\n",
    "adam = Adam(learning_rate=0.005)\n",
    "model.compile(loss='categorical_crossentropy', optimizer=adam, metrics=['accuracy'])\n",
    "\n",
    "model.summary()"
   ]
  },
  {
   "cell_type": "code",
   "execution_count": null,
   "metadata": {
    "execution": {
     "iopub.execute_input": "2024-10-10T05:29:13.701744Z",
     "iopub.status.busy": "2024-10-10T05:29:13.701345Z",
     "iopub.status.idle": "2024-10-10T05:29:13.706307Z",
     "shell.execute_reply": "2024-10-10T05:29:13.705399Z",
     "shell.execute_reply.started": "2024-10-10T05:29:13.701702Z"
    },
    "id": "lNRWycYVTKDx",
    "trusted": true
   },
   "outputs": [],
   "source": [
    "#to stop the training when the loss starts to increase\n",
    "callback = EarlyStopping(\n",
    "    monitor=\"val_loss\",      # Memantau loss pada data validasi\n",
    "    patience=4,              # Menunggu 4 epoch sebelum menghentikan pelatihan jika val_loss tidak membaik\n",
    "    restore_best_weights=True  # Mengembalikan bobot terbaik saat pelatihan dihentikan\n",
    ")"
   ]
  },
  {
   "cell_type": "code",
   "execution_count": null,
   "metadata": {
    "colab": {
     "base_uri": "https://localhost:8080/"
    },
    "execution": {
     "iopub.execute_input": "2024-10-10T05:29:13.707745Z",
     "iopub.status.busy": "2024-10-10T05:29:13.707456Z",
     "iopub.status.idle": "2024-10-10T05:38:19.783996Z",
     "shell.execute_reply": "2024-10-10T05:38:19.782954Z",
     "shell.execute_reply.started": "2024-10-10T05:29:13.707715Z"
    },
    "id": "XXnZKqr3T6lF",
    "outputId": "2dc30c09-de1f-42c7-b35d-69f5a386af67",
    "trusted": true
   },
   "outputs": [],
   "source": [
    "# Fit model\n",
    "history = model.fit(X_train_pad,\n",
    "                    y_train,\n",
    "                    validation_data=(X_val_pad, y_val),\n",
    "                    verbose=1,\n",
    "                    batch_size=256,\n",
    "                    epochs=10,\n",
    "                    callbacks=[callback]\n",
    "                   )"
   ]
  },
  {
   "cell_type": "code",
   "execution_count": null,
   "metadata": {
    "execution": {
     "iopub.execute_input": "2024-10-10T05:38:19.786253Z",
     "iopub.status.busy": "2024-10-10T05:38:19.785529Z",
     "iopub.status.idle": "2024-10-10T05:38:19.995417Z",
     "shell.execute_reply": "2024-10-10T05:38:19.994547Z",
     "shell.execute_reply.started": "2024-10-10T05:38:19.786205Z"
    },
    "id": "FskW-d3bR-35",
    "trusted": true
   },
   "outputs": [],
   "source": [
    "plot_model(model, show_shapes=True, dpi=80)"
   ]
  },
  {
   "cell_type": "code",
   "execution_count": null,
   "metadata": {
    "execution": {
     "iopub.execute_input": "2024-10-10T05:38:19.997423Z",
     "iopub.status.busy": "2024-10-10T05:38:19.996802Z",
     "iopub.status.idle": "2024-10-10T05:38:34.042869Z",
     "shell.execute_reply": "2024-10-10T05:38:34.04195Z",
     "shell.execute_reply.started": "2024-10-10T05:38:19.997378Z"
    },
    "id": "v36auX3CSncu",
    "trusted": true
   },
   "outputs": [],
   "source": [
    "#print the overall loss and accuracy\n",
    "model.evaluate(X_test_pad, y_test)"
   ]
  },
  {
   "cell_type": "code",
   "execution_count": null,
   "metadata": {
    "execution": {
     "iopub.execute_input": "2024-10-10T05:38:34.044155Z",
     "iopub.status.busy": "2024-10-10T05:38:34.043871Z",
     "iopub.status.idle": "2024-10-10T05:38:34.052892Z",
     "shell.execute_reply": "2024-10-10T05:38:34.051984Z",
     "shell.execute_reply.started": "2024-10-10T05:38:34.044126Z"
    },
    "id": "RMgNUR63R-35",
    "trusted": true
   },
   "outputs": [],
   "source": [
    "data_test['label'].value_counts()"
   ]
  },
  {
   "cell_type": "code",
   "execution_count": null,
   "metadata": {
    "execution": {
     "iopub.execute_input": "2024-10-10T05:38:34.054479Z",
     "iopub.status.busy": "2024-10-10T05:38:34.054175Z",
     "iopub.status.idle": "2024-10-10T05:38:49.63658Z",
     "shell.execute_reply": "2024-10-10T05:38:49.635628Z",
     "shell.execute_reply.started": "2024-10-10T05:38:34.054448Z"
    },
    "id": "x6pMveMrR-35",
    "trusted": true
   },
   "outputs": [],
   "source": [
    "predicted = model.predict(X_test_pad)\n",
    "y_pred = predicted.argmax(axis=-1)\n",
    "\n",
    "print(classification_report(le.transform(data_test['label']), y_pred))"
   ]
  },
  {
   "cell_type": "code",
   "execution_count": null,
   "metadata": {
    "execution": {
     "iopub.execute_input": "2024-10-10T05:38:49.638074Z",
     "iopub.status.busy": "2024-10-10T05:38:49.637762Z",
     "iopub.status.idle": "2024-10-10T05:38:50.258617Z",
     "shell.execute_reply": "2024-10-10T05:38:50.257744Z",
     "shell.execute_reply.started": "2024-10-10T05:38:49.638041Z"
    },
    "id": "4RmOn37iR-35",
    "trusted": true
   },
   "outputs": [],
   "source": [
    "# Visualize Loss & Accuracy\n",
    "\n",
    "acc = history.history['accuracy']\n",
    "val_acc = history.history['val_accuracy']\n",
    "loss = history.history['loss']\n",
    "val_loss = history.history['val_loss']\n",
    "\n",
    "epochs = range(len(acc))\n",
    "\n",
    "plt.plot(epochs, acc, 'r', label='Training accuracy')\n",
    "plt.plot(epochs, val_acc, 'b', label='Validation accuracy')\n",
    "plt.title('Training and validation accuracy')\n",
    "plt.legend()\n",
    "plt.figure()\n",
    "\n",
    "plt.plot(epochs, loss, 'r', label='Training Loss')\n",
    "plt.plot(epochs, val_loss, 'b', label='Validation Loss')\n",
    "plt.title('Training and validation loss')\n",
    "plt.legend()\n",
    "\n",
    "plt.show()"
   ]
  },
  {
   "cell_type": "code",
   "execution_count": null,
   "metadata": {},
   "outputs": [],
   "source": [
    "model.save('../model/emotion-classification.h5')"
   ]
  },
  {
   "cell_type": "markdown",
   "metadata": {},
   "source": [
    "### Predicting diary input"
   ]
  },
  {
   "cell_type": "code",
   "execution_count": 9,
   "metadata": {},
   "outputs": [],
   "source": [
    "# Import function for predicting\n",
    "import function as fc"
   ]
  },
  {
   "cell_type": "code",
   "execution_count": 14,
   "metadata": {},
   "outputs": [],
   "source": [
    "mytext = \"i sad384y593\"\n",
    "\n",
    "#alt+z to wrap text\n",
    "mytext2 = \"Today was one of those days that filled me with pure joy. The weather was perfect, with clear skies and a gentle breeze that made everything feel fresh and new. I woke up early, feeling energized, and decided to take a walk around the neighborhood. The sunrise painted the sky with soft pinks and oranges, and I couldn’t help but pause and take it all in. There’s something so peaceful about those quiet mornings, just me and the world waking up. Later, I met up with a friend for coffee, and we spent hours laughing and reminiscing. It’s amazing how the simplest conversations can fill you with so much happiness, and I realized that joy isn’t about grand moments—it’s found in the small, everyday things. Whether it’s the feeling of the sun on your skin, the sound of a good friend’s laughter, or the peace that comes from just being present, today reminded me that joy is all around if we take the time to appreciate it. I ended the day feeling grateful for everything I have, from the simple moments to the wonderful people in my life. It was one of those days that will stay with me for a long time, a reminder that happiness doesn’t have to be complicated—it’s right here in front of us\""
   ]
  },
  {
   "cell_type": "code",
   "execution_count": 16,
   "metadata": {},
   "outputs": [
    {
     "name": "stderr",
     "output_type": "stream",
     "text": [
      "WARNING:absl:Compiled the loaded model, but the compiled metrics have yet to be built. `model.compile_metrics` will be empty until you train or evaluate the model.\n"
     ]
    },
    {
     "name": "stdout",
     "output_type": "stream",
     "text": [
      "WARNING:tensorflow:6 out of the last 6 calls to <function TensorFlowTrainer.make_predict_function.<locals>.one_step_on_data_distributed at 0x7dddd51d8a40> triggered tf.function retracing. Tracing is expensive and the excessive number of tracings could be due to (1) creating @tf.function repeatedly in a loop, (2) passing tensors with different shapes, (3) passing Python objects instead of tensors. For (1), please define your @tf.function outside of the loop. For (2), @tf.function has reduce_retracing=True option that can avoid unnecessary retracing. For (3), please refer to https://www.tensorflow.org/guide/function#controlling_retracing and https://www.tensorflow.org/api_docs/python/tf/function for  more details.\n"
     ]
    },
    {
     "name": "stderr",
     "output_type": "stream",
     "text": [
      "WARNING:tensorflow:6 out of the last 6 calls to <function TensorFlowTrainer.make_predict_function.<locals>.one_step_on_data_distributed at 0x7dddd51d8a40> triggered tf.function retracing. Tracing is expensive and the excessive number of tracings could be due to (1) creating @tf.function repeatedly in a loop, (2) passing tensors with different shapes, (3) passing Python objects instead of tensors. For (1), please define your @tf.function outside of the loop. For (2), @tf.function has reduce_retracing=True option that can avoid unnecessary retracing. For (3), please refer to https://www.tensorflow.org/guide/function#controlling_retracing and https://www.tensorflow.org/api_docs/python/tf/function for  more details.\n"
     ]
    },
    {
     "name": "stdout",
     "output_type": "stream",
     "text": [
      "\u001b[1m1/1\u001b[0m \u001b[32m━━━━━━━━━━━━━━━━━━━━\u001b[0m\u001b[37m\u001b[0m \u001b[1m1s\u001b[0m 587ms/step\n"
     ]
    },
    {
     "data": {
      "text/plain": [
       "'The predicted label is: sadness'"
      ]
     },
     "execution_count": 16,
     "metadata": {},
     "output_type": "execute_result"
    }
   ],
   "source": [
    "fc.predicting_input(mytext)"
   ]
  },
  {
   "cell_type": "code",
   "execution_count": 17,
   "metadata": {},
   "outputs": [
    {
     "name": "stderr",
     "output_type": "stream",
     "text": [
      "WARNING:absl:Compiled the loaded model, but the compiled metrics have yet to be built. `model.compile_metrics` will be empty until you train or evaluate the model.\n"
     ]
    },
    {
     "name": "stdout",
     "output_type": "stream",
     "text": [
      "\u001b[1m1/1\u001b[0m \u001b[32m━━━━━━━━━━━━━━━━━━━━\u001b[0m\u001b[37m\u001b[0m \u001b[1m1s\u001b[0m 596ms/step\n"
     ]
    },
    {
     "data": {
      "text/plain": [
       "'The predicted label is: love'"
      ]
     },
     "execution_count": 17,
     "metadata": {},
     "output_type": "execute_result"
    }
   ],
   "source": [
    "fc.predicting_input(mytext2)"
   ]
  }
 ],
 "metadata": {
  "colab": {
   "provenance": [],
   "toc_visible": true
  },
  "kaggle": {
   "accelerator": "nvidiaTeslaT4",
   "dataSources": [
    {
     "datasetId": 605165,
     "sourceId": 1085454,
     "sourceType": "datasetVersion"
    }
   ],
   "isGpuEnabled": true,
   "isInternetEnabled": true,
   "language": "python",
   "sourceType": "notebook"
  },
  "kernelspec": {
   "display_name": "Python 3",
   "language": "python",
   "name": "python3"
  },
  "language_info": {
   "codemirror_mode": {
    "name": "ipython",
    "version": 3
   },
   "file_extension": ".py",
   "mimetype": "text/x-python",
   "name": "python",
   "nbconvert_exporter": "python",
   "pygments_lexer": "ipython3",
   "version": "3.12.1"
  }
 },
 "nbformat": 4,
 "nbformat_minor": 0
}
