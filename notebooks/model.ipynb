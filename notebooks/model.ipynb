{
 "cells": [
  {
   "cell_type": "markdown",
   "metadata": {
    "id": "T8WAE54QT7q7"
   },
   "source": [
    "## PREPROCESSING"
   ]
  },
  {
   "cell_type": "markdown",
   "metadata": {
    "id": "IQqn3KZ-UIle"
   },
   "source": [
    "### Install and Importing Library/Package"
   ]
  },
  {
   "cell_type": "code",
   "execution_count": 3,
   "metadata": {
    "colab": {
     "base_uri": "https://localhost:8080/"
    },
    "id": "DDqwcGnUBdBY",
    "outputId": "5cb2bd84-d214-40b5-ec4b-39c2b3a3ecd7"
   },
   "outputs": [
    {
     "name": "stdout",
     "output_type": "stream",
     "text": [
      "Defaulting to user installation because normal site-packages is not writeable\n",
      "Collecting tensorflow==2.15.0\n",
      "  Using cached tensorflow-2.15.0-cp310-cp310-manylinux_2_17_x86_64.manylinux2014_x86_64.whl.metadata (4.4 kB)\n",
      "Requirement already satisfied: absl-py>=1.0.0 in /home/jupyter-220711684/.local/lib/python3.10/site-packages (from tensorflow==2.15.0) (2.1.0)\n",
      "Requirement already satisfied: astunparse>=1.6.0 in /home/jupyter-220711684/.local/lib/python3.10/site-packages (from tensorflow==2.15.0) (1.6.3)\n",
      "Requirement already satisfied: flatbuffers>=23.5.26 in /home/jupyter-220711684/.local/lib/python3.10/site-packages (from tensorflow==2.15.0) (24.3.25)\n",
      "Requirement already satisfied: gast!=0.5.0,!=0.5.1,!=0.5.2,>=0.2.1 in /home/jupyter-220711684/.local/lib/python3.10/site-packages (from tensorflow==2.15.0) (0.6.0)\n",
      "Requirement already satisfied: google-pasta>=0.1.1 in /home/jupyter-220711684/.local/lib/python3.10/site-packages (from tensorflow==2.15.0) (0.2.0)\n",
      "Requirement already satisfied: h5py>=2.9.0 in /home/jupyter-220711684/.local/lib/python3.10/site-packages (from tensorflow==2.15.0) (3.12.1)\n",
      "Requirement already satisfied: libclang>=13.0.0 in /home/jupyter-220711684/.local/lib/python3.10/site-packages (from tensorflow==2.15.0) (18.1.1)\n",
      "Collecting ml-dtypes~=0.2.0 (from tensorflow==2.15.0)\n",
      "  Using cached ml_dtypes-0.2.0-cp310-cp310-manylinux_2_17_x86_64.manylinux2014_x86_64.whl.metadata (20 kB)\n",
      "Requirement already satisfied: numpy<2.0.0,>=1.23.5 in /home/jupyter-220711684/.local/lib/python3.10/site-packages (from tensorflow==2.15.0) (1.26.4)\n",
      "Requirement already satisfied: opt-einsum>=2.3.2 in /home/jupyter-220711684/.local/lib/python3.10/site-packages (from tensorflow==2.15.0) (3.4.0)\n",
      "Requirement already satisfied: packaging in /home/jupyter-220711684/.local/lib/python3.10/site-packages (from tensorflow==2.15.0) (23.2)\n",
      "Requirement already satisfied: protobuf!=4.21.0,!=4.21.1,!=4.21.2,!=4.21.3,!=4.21.4,!=4.21.5,<5.0.0dev,>=3.20.3 in /home/jupyter-220711684/.local/lib/python3.10/site-packages (from tensorflow==2.15.0) (4.25.5)\n",
      "Requirement already satisfied: setuptools in /opt/tljh/user/lib/python3.10/site-packages (from tensorflow==2.15.0) (65.6.3)\n",
      "Requirement already satisfied: six>=1.12.0 in /opt/tljh/user/lib/python3.10/site-packages (from tensorflow==2.15.0) (1.16.0)\n",
      "Requirement already satisfied: termcolor>=1.1.0 in /home/jupyter-220711684/.local/lib/python3.10/site-packages (from tensorflow==2.15.0) (2.5.0)\n",
      "Requirement already satisfied: typing-extensions>=3.6.6 in /opt/tljh/user/lib/python3.10/site-packages (from tensorflow==2.15.0) (4.12.2)\n",
      "Requirement already satisfied: wrapt<1.15,>=1.11.0 in /home/jupyter-220711684/.local/lib/python3.10/site-packages (from tensorflow==2.15.0) (1.14.1)\n",
      "Requirement already satisfied: tensorflow-io-gcs-filesystem>=0.23.1 in /home/jupyter-220711684/.local/lib/python3.10/site-packages (from tensorflow==2.15.0) (0.37.1)\n",
      "Requirement already satisfied: grpcio<2.0,>=1.24.3 in /home/jupyter-220711684/.local/lib/python3.10/site-packages (from tensorflow==2.15.0) (1.68.1)\n",
      "Collecting tensorboard<2.16,>=2.15 (from tensorflow==2.15.0)\n",
      "  Using cached tensorboard-2.15.2-py3-none-any.whl.metadata (1.7 kB)\n",
      "Requirement already satisfied: tensorflow-estimator<2.16,>=2.15.0 in /home/jupyter-220711684/.local/lib/python3.10/site-packages (from tensorflow==2.15.0) (2.15.0)\n",
      "Collecting keras<2.16,>=2.15.0 (from tensorflow==2.15.0)\n",
      "  Using cached keras-2.15.0-py3-none-any.whl.metadata (2.4 kB)\n",
      "Requirement already satisfied: wheel<1.0,>=0.23.0 in /opt/tljh/user/lib/python3.10/site-packages (from astunparse>=1.6.0->tensorflow==2.15.0) (0.40.0)\n",
      "Requirement already satisfied: google-auth<3,>=1.6.3 in /home/jupyter-220711684/.local/lib/python3.10/site-packages (from tensorboard<2.16,>=2.15->tensorflow==2.15.0) (2.36.0)\n",
      "Requirement already satisfied: google-auth-oauthlib<2,>=0.5 in /home/jupyter-220711684/.local/lib/python3.10/site-packages (from tensorboard<2.16,>=2.15->tensorflow==2.15.0) (1.2.1)\n",
      "Requirement already satisfied: markdown>=2.6.8 in /home/jupyter-220711684/.local/lib/python3.10/site-packages (from tensorboard<2.16,>=2.15->tensorflow==2.15.0) (3.7)\n",
      "Requirement already satisfied: requests<3,>=2.21.0 in /opt/tljh/user/lib/python3.10/site-packages (from tensorboard<2.16,>=2.15->tensorflow==2.15.0) (2.32.3)\n",
      "Requirement already satisfied: tensorboard-data-server<0.8.0,>=0.7.0 in /home/jupyter-220711684/.local/lib/python3.10/site-packages (from tensorboard<2.16,>=2.15->tensorflow==2.15.0) (0.7.2)\n",
      "Requirement already satisfied: werkzeug>=1.0.1 in /home/jupyter-220711684/.local/lib/python3.10/site-packages (from tensorboard<2.16,>=2.15->tensorflow==2.15.0) (3.1.3)\n",
      "Requirement already satisfied: cachetools<6.0,>=2.0.0 in /opt/tljh/user/lib/python3.10/site-packages (from google-auth<3,>=1.6.3->tensorboard<2.16,>=2.15->tensorflow==2.15.0) (5.5.0)\n",
      "Requirement already satisfied: pyasn1-modules>=0.2.1 in /home/jupyter-220711684/.local/lib/python3.10/site-packages (from google-auth<3,>=1.6.3->tensorboard<2.16,>=2.15->tensorflow==2.15.0) (0.4.1)\n",
      "Requirement already satisfied: rsa<5,>=3.1.4 in /home/jupyter-220711684/.local/lib/python3.10/site-packages (from google-auth<3,>=1.6.3->tensorboard<2.16,>=2.15->tensorflow==2.15.0) (4.9)\n",
      "Requirement already satisfied: requests-oauthlib>=0.7.0 in /home/jupyter-220711684/.local/lib/python3.10/site-packages (from google-auth-oauthlib<2,>=0.5->tensorboard<2.16,>=2.15->tensorflow==2.15.0) (2.0.0)\n",
      "Requirement already satisfied: charset-normalizer<4,>=2 in /opt/tljh/user/lib/python3.10/site-packages (from requests<3,>=2.21.0->tensorboard<2.16,>=2.15->tensorflow==2.15.0) (3.1.0)\n",
      "Requirement already satisfied: idna<4,>=2.5 in /opt/tljh/user/lib/python3.10/site-packages (from requests<3,>=2.21.0->tensorboard<2.16,>=2.15->tensorflow==2.15.0) (3.4)\n",
      "Requirement already satisfied: urllib3<3,>=1.21.1 in /opt/tljh/user/lib/python3.10/site-packages (from requests<3,>=2.21.0->tensorboard<2.16,>=2.15->tensorflow==2.15.0) (1.26.15)\n",
      "Requirement already satisfied: certifi>=2017.4.17 in /opt/tljh/user/lib/python3.10/site-packages (from requests<3,>=2.21.0->tensorboard<2.16,>=2.15->tensorflow==2.15.0) (2022.12.7)\n",
      "Requirement already satisfied: MarkupSafe>=2.1.1 in /opt/tljh/user/lib/python3.10/site-packages (from werkzeug>=1.0.1->tensorboard<2.16,>=2.15->tensorflow==2.15.0) (3.0.1)\n",
      "Requirement already satisfied: pyasn1<0.7.0,>=0.4.6 in /home/jupyter-220711684/.local/lib/python3.10/site-packages (from pyasn1-modules>=0.2.1->google-auth<3,>=1.6.3->tensorboard<2.16,>=2.15->tensorflow==2.15.0) (0.6.1)\n",
      "Requirement already satisfied: oauthlib>=3.0.0 in /opt/tljh/user/lib/python3.10/site-packages (from requests-oauthlib>=0.7.0->google-auth-oauthlib<2,>=0.5->tensorboard<2.16,>=2.15->tensorflow==2.15.0) (3.2.2)\n",
      "Using cached tensorflow-2.15.0-cp310-cp310-manylinux_2_17_x86_64.manylinux2014_x86_64.whl (475.2 MB)\n",
      "Using cached keras-2.15.0-py3-none-any.whl (1.7 MB)\n",
      "Using cached ml_dtypes-0.2.0-cp310-cp310-manylinux_2_17_x86_64.manylinux2014_x86_64.whl (1.0 MB)\n",
      "Using cached tensorboard-2.15.2-py3-none-any.whl (5.5 MB)\n",
      "Installing collected packages: ml-dtypes, keras, tensorboard, tensorflow\n",
      "  Attempting uninstall: ml-dtypes\n",
      "    Found existing installation: ml-dtypes 0.4.1\n",
      "    Uninstalling ml-dtypes-0.4.1:\n",
      "      Successfully uninstalled ml-dtypes-0.4.1\n",
      "  Attempting uninstall: keras\n",
      "    Found existing installation: keras 3.7.0\n",
      "    Uninstalling keras-3.7.0:\n",
      "      Successfully uninstalled keras-3.7.0\n",
      "  Attempting uninstall: tensorboard\n",
      "    Found existing installation: tensorboard 2.18.0\n",
      "    Uninstalling tensorboard-2.18.0:\n",
      "      Successfully uninstalled tensorboard-2.18.0\n",
      "\u001b[33m  WARNING: The script tensorboard is installed in '/home/jupyter-220711684/.local/bin' which is not on PATH.\n",
      "  Consider adding this directory to PATH or, if you prefer to suppress this warning, use --no-warn-script-location.\u001b[0m\u001b[33m\n",
      "\u001b[0m  Attempting uninstall: tensorflow\n",
      "    Found existing installation: tensorflow 2.18.0\n",
      "    Uninstalling tensorflow-2.18.0:\n",
      "      Successfully uninstalled tensorflow-2.18.0\n",
      "\u001b[33m  WARNING: The scripts estimator_ckpt_converter, import_pb_to_tensorboard, saved_model_cli, tensorboard, tf_upgrade_v2, tflite_convert, toco and toco_from_protos are installed in '/home/jupyter-220711684/.local/bin' which is not on PATH.\n",
      "  Consider adding this directory to PATH or, if you prefer to suppress this warning, use --no-warn-script-location.\u001b[0m\u001b[33m\n",
      "\u001b[0m\u001b[31mERROR: pip's dependency resolver does not currently take into account all the packages that are installed. This behaviour is the source of the following dependency conflicts.\n",
      "jax 0.4.36 requires ml_dtypes>=0.4.0, but you have ml-dtypes 0.2.0 which is incompatible.\n",
      "tensorflow-decision-forests 1.11.0 requires tensorflow==2.18.0, but you have tensorflow 2.15.0 which is incompatible.\n",
      "tensorstore 0.1.69 requires ml-dtypes>=0.3.1, but you have ml-dtypes 0.2.0 which is incompatible.\n",
      "tf-keras 2.18.0 requires tensorflow<2.19,>=2.18, but you have tensorflow 2.15.0 which is incompatible.\u001b[0m\u001b[31m\n",
      "\u001b[0mSuccessfully installed keras-2.15.0 ml-dtypes-0.2.0 tensorboard-2.15.2 tensorflow-2.15.0\n",
      "\n",
      "\u001b[1m[\u001b[0m\u001b[34;49mnotice\u001b[0m\u001b[1;39;49m]\u001b[0m\u001b[39;49m A new release of pip is available: \u001b[0m\u001b[31;49m24.2\u001b[0m\u001b[39;49m -> \u001b[0m\u001b[32;49m24.3.1\u001b[0m\n",
      "\u001b[1m[\u001b[0m\u001b[34;49mnotice\u001b[0m\u001b[1;39;49m]\u001b[0m\u001b[39;49m To update, run: \u001b[0m\u001b[32;49mpip install --upgrade pip\u001b[0m\n",
      "Note: you may need to restart the kernel to use updated packages.\n"
     ]
    }
   ],
   "source": [
    "# Installing Library / Packages\n",
    "%pip install tensorflow==2.15.0"
   ]
  },
  {
   "cell_type": "code",
   "execution_count": 4,
   "metadata": {
    "colab": {
     "base_uri": "https://localhost:8080/"
    },
    "id": "MF0t29RNiBEw",
    "outputId": "b2e90369-f892-4517-beb9-62ed2680b6ba"
   },
   "outputs": [
    {
     "name": "stdout",
     "output_type": "stream",
     "text": [
      "Defaulting to user installation because normal site-packages is not writeable\n",
      "Collecting tensorflow_decision_forests==1.8.1\n",
      "  Using cached tensorflow_decision_forests-1.8.1-cp310-cp310-manylinux_2_17_x86_64.manylinux2014_x86_64.whl.metadata (6.0 kB)\n",
      "Requirement already satisfied: numpy in /home/jupyter-220711684/.local/lib/python3.10/site-packages (from tensorflow_decision_forests==1.8.1) (1.26.4)\n",
      "Requirement already satisfied: pandas in /opt/tljh/user/lib/python3.10/site-packages (from tensorflow_decision_forests==1.8.1) (2.2.3)\n",
      "Requirement already satisfied: tensorflow~=2.15.0 in /home/jupyter-220711684/.local/lib/python3.10/site-packages (from tensorflow_decision_forests==1.8.1) (2.15.0)\n",
      "Requirement already satisfied: six in /opt/tljh/user/lib/python3.10/site-packages (from tensorflow_decision_forests==1.8.1) (1.16.0)\n",
      "Requirement already satisfied: absl-py in /home/jupyter-220711684/.local/lib/python3.10/site-packages (from tensorflow_decision_forests==1.8.1) (2.1.0)\n",
      "Requirement already satisfied: wheel in /opt/tljh/user/lib/python3.10/site-packages (from tensorflow_decision_forests==1.8.1) (0.40.0)\n",
      "Requirement already satisfied: wurlitzer in /home/jupyter-220711684/.local/lib/python3.10/site-packages (from tensorflow_decision_forests==1.8.1) (3.1.1)\n",
      "Requirement already satisfied: astunparse>=1.6.0 in /home/jupyter-220711684/.local/lib/python3.10/site-packages (from tensorflow~=2.15.0->tensorflow_decision_forests==1.8.1) (1.6.3)\n",
      "Requirement already satisfied: flatbuffers>=23.5.26 in /home/jupyter-220711684/.local/lib/python3.10/site-packages (from tensorflow~=2.15.0->tensorflow_decision_forests==1.8.1) (24.3.25)\n",
      "Requirement already satisfied: gast!=0.5.0,!=0.5.1,!=0.5.2,>=0.2.1 in /home/jupyter-220711684/.local/lib/python3.10/site-packages (from tensorflow~=2.15.0->tensorflow_decision_forests==1.8.1) (0.6.0)\n",
      "Requirement already satisfied: google-pasta>=0.1.1 in /home/jupyter-220711684/.local/lib/python3.10/site-packages (from tensorflow~=2.15.0->tensorflow_decision_forests==1.8.1) (0.2.0)\n",
      "Requirement already satisfied: h5py>=2.9.0 in /home/jupyter-220711684/.local/lib/python3.10/site-packages (from tensorflow~=2.15.0->tensorflow_decision_forests==1.8.1) (3.12.1)\n",
      "Requirement already satisfied: libclang>=13.0.0 in /home/jupyter-220711684/.local/lib/python3.10/site-packages (from tensorflow~=2.15.0->tensorflow_decision_forests==1.8.1) (18.1.1)\n",
      "Requirement already satisfied: ml-dtypes~=0.2.0 in /home/jupyter-220711684/.local/lib/python3.10/site-packages (from tensorflow~=2.15.0->tensorflow_decision_forests==1.8.1) (0.2.0)\n",
      "Requirement already satisfied: opt-einsum>=2.3.2 in /home/jupyter-220711684/.local/lib/python3.10/site-packages (from tensorflow~=2.15.0->tensorflow_decision_forests==1.8.1) (3.4.0)\n",
      "Requirement already satisfied: packaging in /home/jupyter-220711684/.local/lib/python3.10/site-packages (from tensorflow~=2.15.0->tensorflow_decision_forests==1.8.1) (23.2)\n",
      "Requirement already satisfied: protobuf!=4.21.0,!=4.21.1,!=4.21.2,!=4.21.3,!=4.21.4,!=4.21.5,<5.0.0dev,>=3.20.3 in /home/jupyter-220711684/.local/lib/python3.10/site-packages (from tensorflow~=2.15.0->tensorflow_decision_forests==1.8.1) (4.25.5)\n",
      "Requirement already satisfied: setuptools in /opt/tljh/user/lib/python3.10/site-packages (from tensorflow~=2.15.0->tensorflow_decision_forests==1.8.1) (65.6.3)\n",
      "Requirement already satisfied: termcolor>=1.1.0 in /home/jupyter-220711684/.local/lib/python3.10/site-packages (from tensorflow~=2.15.0->tensorflow_decision_forests==1.8.1) (2.5.0)\n",
      "Requirement already satisfied: typing-extensions>=3.6.6 in /opt/tljh/user/lib/python3.10/site-packages (from tensorflow~=2.15.0->tensorflow_decision_forests==1.8.1) (4.12.2)\n",
      "Requirement already satisfied: wrapt<1.15,>=1.11.0 in /home/jupyter-220711684/.local/lib/python3.10/site-packages (from tensorflow~=2.15.0->tensorflow_decision_forests==1.8.1) (1.14.1)\n",
      "Requirement already satisfied: tensorflow-io-gcs-filesystem>=0.23.1 in /home/jupyter-220711684/.local/lib/python3.10/site-packages (from tensorflow~=2.15.0->tensorflow_decision_forests==1.8.1) (0.37.1)\n",
      "Requirement already satisfied: grpcio<2.0,>=1.24.3 in /home/jupyter-220711684/.local/lib/python3.10/site-packages (from tensorflow~=2.15.0->tensorflow_decision_forests==1.8.1) (1.68.1)\n",
      "Requirement already satisfied: tensorboard<2.16,>=2.15 in /home/jupyter-220711684/.local/lib/python3.10/site-packages (from tensorflow~=2.15.0->tensorflow_decision_forests==1.8.1) (2.15.2)\n",
      "Requirement already satisfied: tensorflow-estimator<2.16,>=2.15.0 in /home/jupyter-220711684/.local/lib/python3.10/site-packages (from tensorflow~=2.15.0->tensorflow_decision_forests==1.8.1) (2.15.0)\n",
      "Requirement already satisfied: keras<2.16,>=2.15.0 in /home/jupyter-220711684/.local/lib/python3.10/site-packages (from tensorflow~=2.15.0->tensorflow_decision_forests==1.8.1) (2.15.0)\n",
      "Requirement already satisfied: python-dateutil>=2.8.2 in /opt/tljh/user/lib/python3.10/site-packages (from pandas->tensorflow_decision_forests==1.8.1) (2.9.0.post0)\n",
      "Requirement already satisfied: pytz>=2020.1 in /opt/tljh/user/lib/python3.10/site-packages (from pandas->tensorflow_decision_forests==1.8.1) (2024.2)\n",
      "Requirement already satisfied: tzdata>=2022.7 in /opt/tljh/user/lib/python3.10/site-packages (from pandas->tensorflow_decision_forests==1.8.1) (2024.2)\n",
      "Requirement already satisfied: google-auth<3,>=1.6.3 in /home/jupyter-220711684/.local/lib/python3.10/site-packages (from tensorboard<2.16,>=2.15->tensorflow~=2.15.0->tensorflow_decision_forests==1.8.1) (2.36.0)\n",
      "Requirement already satisfied: google-auth-oauthlib<2,>=0.5 in /home/jupyter-220711684/.local/lib/python3.10/site-packages (from tensorboard<2.16,>=2.15->tensorflow~=2.15.0->tensorflow_decision_forests==1.8.1) (1.2.1)\n",
      "Requirement already satisfied: markdown>=2.6.8 in /home/jupyter-220711684/.local/lib/python3.10/site-packages (from tensorboard<2.16,>=2.15->tensorflow~=2.15.0->tensorflow_decision_forests==1.8.1) (3.7)\n",
      "Requirement already satisfied: requests<3,>=2.21.0 in /opt/tljh/user/lib/python3.10/site-packages (from tensorboard<2.16,>=2.15->tensorflow~=2.15.0->tensorflow_decision_forests==1.8.1) (2.32.3)\n",
      "Requirement already satisfied: tensorboard-data-server<0.8.0,>=0.7.0 in /home/jupyter-220711684/.local/lib/python3.10/site-packages (from tensorboard<2.16,>=2.15->tensorflow~=2.15.0->tensorflow_decision_forests==1.8.1) (0.7.2)\n",
      "Requirement already satisfied: werkzeug>=1.0.1 in /home/jupyter-220711684/.local/lib/python3.10/site-packages (from tensorboard<2.16,>=2.15->tensorflow~=2.15.0->tensorflow_decision_forests==1.8.1) (3.1.3)\n",
      "Requirement already satisfied: cachetools<6.0,>=2.0.0 in /opt/tljh/user/lib/python3.10/site-packages (from google-auth<3,>=1.6.3->tensorboard<2.16,>=2.15->tensorflow~=2.15.0->tensorflow_decision_forests==1.8.1) (5.5.0)\n",
      "Requirement already satisfied: pyasn1-modules>=0.2.1 in /home/jupyter-220711684/.local/lib/python3.10/site-packages (from google-auth<3,>=1.6.3->tensorboard<2.16,>=2.15->tensorflow~=2.15.0->tensorflow_decision_forests==1.8.1) (0.4.1)\n",
      "Requirement already satisfied: rsa<5,>=3.1.4 in /home/jupyter-220711684/.local/lib/python3.10/site-packages (from google-auth<3,>=1.6.3->tensorboard<2.16,>=2.15->tensorflow~=2.15.0->tensorflow_decision_forests==1.8.1) (4.9)\n",
      "Requirement already satisfied: requests-oauthlib>=0.7.0 in /home/jupyter-220711684/.local/lib/python3.10/site-packages (from google-auth-oauthlib<2,>=0.5->tensorboard<2.16,>=2.15->tensorflow~=2.15.0->tensorflow_decision_forests==1.8.1) (2.0.0)\n",
      "Requirement already satisfied: charset-normalizer<4,>=2 in /opt/tljh/user/lib/python3.10/site-packages (from requests<3,>=2.21.0->tensorboard<2.16,>=2.15->tensorflow~=2.15.0->tensorflow_decision_forests==1.8.1) (3.1.0)\n",
      "Requirement already satisfied: idna<4,>=2.5 in /opt/tljh/user/lib/python3.10/site-packages (from requests<3,>=2.21.0->tensorboard<2.16,>=2.15->tensorflow~=2.15.0->tensorflow_decision_forests==1.8.1) (3.4)\n",
      "Requirement already satisfied: urllib3<3,>=1.21.1 in /opt/tljh/user/lib/python3.10/site-packages (from requests<3,>=2.21.0->tensorboard<2.16,>=2.15->tensorflow~=2.15.0->tensorflow_decision_forests==1.8.1) (1.26.15)\n",
      "Requirement already satisfied: certifi>=2017.4.17 in /opt/tljh/user/lib/python3.10/site-packages (from requests<3,>=2.21.0->tensorboard<2.16,>=2.15->tensorflow~=2.15.0->tensorflow_decision_forests==1.8.1) (2022.12.7)\n",
      "Requirement already satisfied: MarkupSafe>=2.1.1 in /opt/tljh/user/lib/python3.10/site-packages (from werkzeug>=1.0.1->tensorboard<2.16,>=2.15->tensorflow~=2.15.0->tensorflow_decision_forests==1.8.1) (3.0.1)\n",
      "Requirement already satisfied: pyasn1<0.7.0,>=0.4.6 in /home/jupyter-220711684/.local/lib/python3.10/site-packages (from pyasn1-modules>=0.2.1->google-auth<3,>=1.6.3->tensorboard<2.16,>=2.15->tensorflow~=2.15.0->tensorflow_decision_forests==1.8.1) (0.6.1)\n",
      "Requirement already satisfied: oauthlib>=3.0.0 in /opt/tljh/user/lib/python3.10/site-packages (from requests-oauthlib>=0.7.0->google-auth-oauthlib<2,>=0.5->tensorboard<2.16,>=2.15->tensorflow~=2.15.0->tensorflow_decision_forests==1.8.1) (3.2.2)\n",
      "Using cached tensorflow_decision_forests-1.8.1-cp310-cp310-manylinux_2_17_x86_64.manylinux2014_x86_64.whl (15.3 MB)\n",
      "Installing collected packages: tensorflow_decision_forests\n",
      "  Attempting uninstall: tensorflow_decision_forests\n",
      "    Found existing installation: tensorflow_decision_forests 1.11.0\n",
      "    Uninstalling tensorflow_decision_forests-1.11.0:\n",
      "      Successfully uninstalled tensorflow_decision_forests-1.11.0\n",
      "Successfully installed tensorflow_decision_forests-1.8.1\n",
      "\n",
      "\u001b[1m[\u001b[0m\u001b[34;49mnotice\u001b[0m\u001b[1;39;49m]\u001b[0m\u001b[39;49m A new release of pip is available: \u001b[0m\u001b[31;49m24.2\u001b[0m\u001b[39;49m -> \u001b[0m\u001b[32;49m24.3.1\u001b[0m\n",
      "\u001b[1m[\u001b[0m\u001b[34;49mnotice\u001b[0m\u001b[1;39;49m]\u001b[0m\u001b[39;49m To update, run: \u001b[0m\u001b[32;49mpip install --upgrade pip\u001b[0m\n",
      "Note: you may need to restart the kernel to use updated packages.\n"
     ]
    }
   ],
   "source": [
    "%pip install tensorflow_decision_forests==1.8.1"
   ]
  },
  {
   "cell_type": "code",
   "execution_count": 6,
   "metadata": {
    "colab": {
     "base_uri": "https://localhost:8080/"
    },
    "id": "AiFMXNf5U__8",
    "outputId": "0446d97f-c102-4a04-f1a7-b51a744e8a57"
   },
   "outputs": [
    {
     "name": "stdout",
     "output_type": "stream",
     "text": [
      "Defaulting to user installation because normal site-packages is not writeable\n",
      "Requirement already satisfied: gensim in /home/jupyter-220711684/.local/lib/python3.10/site-packages (4.3.3)\n",
      "Requirement already satisfied: numpy<2.0,>=1.18.5 in /home/jupyter-220711684/.local/lib/python3.10/site-packages (from gensim) (1.26.4)\n",
      "Requirement already satisfied: scipy<1.14.0,>=1.7.0 in /home/jupyter-220711684/.local/lib/python3.10/site-packages (from gensim) (1.13.1)\n",
      "Requirement already satisfied: smart-open>=1.8.1 in /home/jupyter-220711684/.local/lib/python3.10/site-packages (from gensim) (7.0.5)\n",
      "Requirement already satisfied: wrapt in /home/jupyter-220711684/.local/lib/python3.10/site-packages (from smart-open>=1.8.1->gensim) (1.14.1)\n",
      "\n",
      "\u001b[1m[\u001b[0m\u001b[34;49mnotice\u001b[0m\u001b[1;39;49m]\u001b[0m\u001b[39;49m A new release of pip is available: \u001b[0m\u001b[31;49m24.2\u001b[0m\u001b[39;49m -> \u001b[0m\u001b[32;49m24.3.1\u001b[0m\n",
      "\u001b[1m[\u001b[0m\u001b[34;49mnotice\u001b[0m\u001b[1;39;49m]\u001b[0m\u001b[39;49m To update, run: \u001b[0m\u001b[32;49mpip install --upgrade pip\u001b[0m\n",
      "Note: you may need to restart the kernel to use updated packages.\n"
     ]
    }
   ],
   "source": [
    "%pip install gensim"
   ]
  },
  {
   "cell_type": "code",
   "execution_count": null,
   "metadata": {
    "id": "PzxFjIa53Nc2"
   },
   "outputs": [],
   "source": [
    "import pandas as pd\n",
    "import gensim\n",
    "import numpy as np\n",
    "import matplotlib.pyplot as plt\n",
    "import temsorflow\n",
    "\n",
    "from tensorflow.keras.utils import to_categorical\n",
    "from tensorflow.keras.preprocessing.text import Tokenizer\n",
    "from tensorflow.keras.preprocessing.sequence import pad_sequences\n",
    "\n",
    "from tensorflow.keras.optimizers import Adam\n",
    "from tensorflow.keras.models import Sequential\n",
    "from tensorflow.keras.callbacks import EarlyStopping\n",
    "from tensorflow.keras.layers import Dense, LSTM, Embedding, Bidirectional, Input\n",
    "from tensorflow.keras.utils import plot_model\n",
    "from sklearn.metrics import classification_report\n",
    "from sklearn.preprocessing import LabelEncoder\n"
   ]
  },
  {
   "cell_type": "markdown",
   "metadata": {
    "id": "c_hMempHi9qN"
   },
   "source": [
    "### Membuat Model"
   ]
  },
  {
   "cell_type": "markdown",
   "metadata": {
    "id": "VoWbjo2fU__9"
   },
   "source": [
    "#### Mengimport file hasil preprocessing"
   ]
  },
  {
   "cell_type": "code",
   "execution_count": null,
   "metadata": {
    "id": "0-6TvwE-EX_h"
   },
   "outputs": [],
   "source": [
    "# Load CSV files into DataFrames\n",
    "df = pd.read_csv('../datasets/output_preprocess/dataset.csv')"
   ]
  },
  {
   "cell_type": "markdown",
   "metadata": {},
   "source": [
    "#### Memeriksa Dataset dan Melakukan Cleaning Tambahan"
   ]
  },
  {
   "cell_type": "code",
   "execution_count": 11,
   "metadata": {
    "colab": {
     "base_uri": "https://localhost:8080/",
     "height": 147
    },
    "id": "pNTxphqIJTzf",
    "outputId": "86dbd31a-650a-4090-9973-7b1053fed6c9"
   },
   "outputs": [
    {
     "data": {
      "text/plain": [
       "text     11\n",
       "label     1\n",
       "dtype: int64"
      ]
     },
     "execution_count": 11,
     "metadata": {},
     "output_type": "execute_result"
    }
   ],
   "source": [
    "df.isna().sum()"
   ]
  },
  {
   "cell_type": "code",
   "execution_count": 12,
   "metadata": {
    "id": "HkHLXBMdJcc0"
   },
   "outputs": [],
   "source": [
    "df = df.dropna()"
   ]
  },
  {
   "cell_type": "code",
   "execution_count": 14,
   "metadata": {
    "colab": {
     "base_uri": "https://localhost:8080/",
     "height": 206
    },
    "id": "GnZzg-6JJp2l",
    "outputId": "75ffd783-a04f-4040-9e85-1660026ce6de"
   },
   "outputs": [
    {
     "data": {
      "text/html": [
       "<div>\n",
       "<style scoped>\n",
       "    .dataframe tbody tr th:only-of-type {\n",
       "        vertical-align: middle;\n",
       "    }\n",
       "\n",
       "    .dataframe tbody tr th {\n",
       "        vertical-align: top;\n",
       "    }\n",
       "\n",
       "    .dataframe thead th {\n",
       "        text-align: right;\n",
       "    }\n",
       "</style>\n",
       "<table border=\"1\" class=\"dataframe\">\n",
       "  <thead>\n",
       "    <tr style=\"text-align: right;\">\n",
       "      <th></th>\n",
       "      <th>text</th>\n",
       "      <th>label</th>\n",
       "    </tr>\n",
       "  </thead>\n",
       "  <tbody>\n",
       "    <tr>\n",
       "      <th>0</th>\n",
       "      <td>feel really helpless heavy hearted</td>\n",
       "      <td>4.0</td>\n",
       "    </tr>\n",
       "    <tr>\n",
       "      <th>1</th>\n",
       "      <td>ive enjoyed able slouch relax unwind frankly n...</td>\n",
       "      <td>0.0</td>\n",
       "    </tr>\n",
       "    <tr>\n",
       "      <th>2</th>\n",
       "      <td>gave internship dmrg feeling distraught</td>\n",
       "      <td>4.0</td>\n",
       "    </tr>\n",
       "    <tr>\n",
       "      <th>3</th>\n",
       "      <td>dont know feel lost</td>\n",
       "      <td>0.0</td>\n",
       "    </tr>\n",
       "    <tr>\n",
       "      <th>4</th>\n",
       "      <td>kindergarten teacher thoroughly weary job take...</td>\n",
       "      <td>4.0</td>\n",
       "    </tr>\n",
       "    <tr>\n",
       "      <th>5</th>\n",
       "      <td>beginning feel quite disheartened</td>\n",
       "      <td>0.0</td>\n",
       "    </tr>\n",
       "    <tr>\n",
       "      <th>6</th>\n",
       "      <td>would think whomever would lucky enough stay s...</td>\n",
       "      <td>2.0</td>\n",
       "    </tr>\n",
       "    <tr>\n",
       "      <th>7</th>\n",
       "      <td>fear ever feel delicious excitement christmas ...</td>\n",
       "      <td>1.0</td>\n",
       "    </tr>\n",
       "    <tr>\n",
       "      <th>8</th>\n",
       "      <td>im forever taking time lie feel weird</td>\n",
       "      <td>5.0</td>\n",
       "    </tr>\n",
       "    <tr>\n",
       "      <th>9</th>\n",
       "      <td>still lose weight without feeling deprived</td>\n",
       "      <td>0.0</td>\n",
       "    </tr>\n",
       "    <tr>\n",
       "      <th>10</th>\n",
       "      <td>try nice though get bitchy person phone window...</td>\n",
       "      <td>1.0</td>\n",
       "    </tr>\n",
       "    <tr>\n",
       "      <th>11</th>\n",
       "      <td>im feeling little like damaged tree roots litt...</td>\n",
       "      <td>0.0</td>\n",
       "    </tr>\n",
       "    <tr>\n",
       "      <th>12</th>\n",
       "      <td>officially graduated im feeling ecstatic thoug...</td>\n",
       "      <td>1.0</td>\n",
       "    </tr>\n",
       "    <tr>\n",
       "      <th>13</th>\n",
       "      <td>feel like jerk library students claim love scr...</td>\n",
       "      <td>3.0</td>\n",
       "    </tr>\n",
       "    <tr>\n",
       "      <th>14</th>\n",
       "      <td>feel portfolio demonstrates eager learn know b...</td>\n",
       "      <td>1.0</td>\n",
       "    </tr>\n",
       "  </tbody>\n",
       "</table>\n",
       "</div>"
      ],
      "text/plain": [
       "                                                 text  label\n",
       "0                  feel really helpless heavy hearted    4.0\n",
       "1   ive enjoyed able slouch relax unwind frankly n...    0.0\n",
       "2             gave internship dmrg feeling distraught    4.0\n",
       "3                                 dont know feel lost    0.0\n",
       "4   kindergarten teacher thoroughly weary job take...    4.0\n",
       "5                   beginning feel quite disheartened    0.0\n",
       "6   would think whomever would lucky enough stay s...    2.0\n",
       "7   fear ever feel delicious excitement christmas ...    1.0\n",
       "8               im forever taking time lie feel weird    5.0\n",
       "9          still lose weight without feeling deprived    0.0\n",
       "10  try nice though get bitchy person phone window...    1.0\n",
       "11  im feeling little like damaged tree roots litt...    0.0\n",
       "12  officially graduated im feeling ecstatic thoug...    1.0\n",
       "13  feel like jerk library students claim love scr...    3.0\n",
       "14  feel portfolio demonstrates eager learn know b...    1.0"
      ]
     },
     "execution_count": 14,
     "metadata": {},
     "output_type": "execute_result"
    }
   ],
   "source": [
    "df.head(15)"
   ]
  },
  {
   "cell_type": "markdown",
   "metadata": {},
   "source": [
    "#### Menyiapkan Dataset untuk Dilatih"
   ]
  },
  {
   "cell_type": "code",
   "execution_count": 15,
   "metadata": {
    "id": "tKYJeb1tGDjz"
   },
   "outputs": [],
   "source": [
    "from sklearn.model_selection import train_test_split"
   ]
  },
  {
   "cell_type": "code",
   "execution_count": 16,
   "metadata": {
    "id": "chN8hYY_Eq72"
   },
   "outputs": [],
   "source": [
    "X_train, X_test, y_train, y_test = train_test_split(df['text'], df['label'], test_size=0.2, random_state=42,stratify=df['label'])\n",
    "X_test, X_val, y_test, y_val = train_test_split(X_test, y_test, test_size=0.4, random_state=42,stratify=y_test)"
   ]
  },
  {
   "cell_type": "code",
   "execution_count": 17,
   "metadata": {},
   "outputs": [
    {
     "data": {
      "text/plain": [
       "266888    3.0\n",
       "69422     1.0\n",
       "79034     1.0\n",
       "41784     5.0\n",
       "233401    0.0\n",
       "         ... \n",
       "159420    1.0\n",
       "24387     1.0\n",
       "778       0.0\n",
       "60887     3.0\n",
       "61541     0.0\n",
       "Name: label, Length: 259136, dtype: float64"
      ]
     },
     "execution_count": 17,
     "metadata": {},
     "output_type": "execute_result"
    }
   ],
   "source": [
    "y_train"
   ]
  },
  {
   "cell_type": "code",
   "execution_count": 20,
   "metadata": {
    "id": "1bHHwU35R_R2"
   },
   "outputs": [],
   "source": [
    "#Convert the class vector (integers) to binary class matrix\n",
    "y_train = to_categorical(y_train)\n",
    "y_test = to_categorical(y_test)\n",
    "y_val = to_categorical(y_val)"
   ]
  },
  {
   "cell_type": "code",
   "execution_count": 21,
   "metadata": {
    "id": "jUpgwjwkQXWS"
   },
   "outputs": [],
   "source": [
    "MAX_LENGTH = 500\n",
    "\n",
    "# Create a tokenizer\n",
    "tokenizer = Tokenizer(oov_token='UNK')\n",
    "# Fit the tokenizer on the training data\n",
    "tokenizer.fit_on_texts(X_train)\n",
    "# Convert text to sequences of tokens\n",
    "X_train_seq = tokenizer.texts_to_sequences(X_train)\n",
    "X_test_seq = tokenizer.texts_to_sequences(X_test)\n",
    "X_val_seq = tokenizer.texts_to_sequences(X_val)\n",
    "# Pad sequences to ensure equal length\n",
    "X_train_pad = pad_sequences(X_train_seq, maxlen=MAX_LENGTH, truncating='pre')\n",
    "X_test_pad = pad_sequences(X_test_seq, maxlen=MAX_LENGTH, truncating='pre')\n",
    "X_val_pad = pad_sequences(X_val_seq, maxlen=MAX_LENGTH, truncating='pre')"
   ]
  },
  {
   "cell_type": "code",
   "execution_count": 22,
   "metadata": {
    "id": "-nIiqByRQZOi"
   },
   "outputs": [],
   "source": [
    "# Train Word2Vec model\n",
    "sentences = [text.split() for text in X_train]\n",
    "w2v_model = gensim.models.Word2Vec(sentences, vector_size=200, window=5, min_count=5, workers=4)\n",
    "\n",
    "# Create embedding matrix\n",
    "embedding_matrix = np.zeros((len(tokenizer.word_index) + 1, 200))\n",
    "for word, i in tokenizer.word_index.items():\n",
    "    if word in w2v_model.wv:\n",
    "        embedding_matrix[i] = w2v_model.wv[word]"
   ]
  },
  {
   "cell_type": "markdown",
   "metadata": {
    "id": "jGaYeJ3VU__-"
   },
   "source": [
    "#### Membangun arsitekteur"
   ]
  },
  {
   "cell_type": "code",
   "execution_count": 23,
   "metadata": {
    "colab": {
     "base_uri": "https://localhost:8080/"
    },
    "id": "0uHMk5sbTAXr",
    "outputId": "db1463b7-3cb7-487d-853f-6827dfa1dc0f"
   },
   "outputs": [
    {
     "name": "stdout",
     "output_type": "stream",
     "text": [
      "Model: \"sequential\"\n",
      "_________________________________________________________________\n",
      " Layer (type)                Output Shape              Param #   \n",
      "=================================================================\n",
      " embedding (Embedding)       (None, 500, 200)          12045000  \n",
      "                                                                 \n",
      " bidirectional (Bidirection  (None, 500, 512)          935936    \n",
      " al)                                                             \n",
      "                                                                 \n",
      " bidirectional_1 (Bidirecti  (None, 256)               656384    \n",
      " onal)                                                           \n",
      "                                                                 \n",
      " dense (Dense)               (None, 6)                 1542      \n",
      "                                                                 \n",
      "=================================================================\n",
      "Total params: 13638862 (52.03 MB)\n",
      "Trainable params: 13638862 (52.03 MB)\n",
      "Non-trainable params: 0 (0.00 Byte)\n",
      "_________________________________________________________________\n"
     ]
    }
   ],
   "source": [
    "# mendefinisikan size input\n",
    "vocabSize = len(tokenizer.word_index) + 1  # +1 for the padding token or OOV token\n",
    "sequence_length = X_train_pad.shape[1]\n",
    "\n",
    "# model = Sequential()\n",
    "# model.add(Input(shape=(sequence_length,)))  # Input shape: (batch_size, sequence_length)\n",
    "# model.add(Embedding(vocabSize, 200, weights=[embedding_matrix], input_length=sequence_length)) # Use X_train_pad to get shape\n",
    "# model.add(Bidirectional(LSTM(256, dropout=0.2,recurrent_dropout=0.2, return_sequences=True)))\n",
    "# model.add(Bidirectional(LSTM(128, dropout=0.2,recurrent_dropout=0.2)))\n",
    "# model.add(Dense(6, activation='softmax'))\n",
    "\n",
    "model = Sequential([\n",
    "    Input(shape=(500,)),  # Adjust this shape as needed\n",
    "    Embedding(vocabSize, 200, weights=[embedding_matrix]),\n",
    "    Bidirectional(LSTM(256, dropout=0.2,recurrent_dropout=0.2, return_sequences=True)),\n",
    "    Bidirectional(LSTM(128, dropout=0.2,recurrent_dropout=0.2)),\n",
    "    Dense(6, activation='softmax')\n",
    "])\n",
    "\n",
    "adam = Adam(learning_rate=0.005)\n",
    "model.compile(loss='categorical_crossentropy', optimizer=adam, metrics=['accuracy'])\n",
    "\n",
    "model.summary()"
   ]
  },
  {
   "cell_type": "code",
   "execution_count": 25,
   "metadata": {
    "id": "VG8D_Qu7LzE9"
   },
   "outputs": [],
   "source": [
    "class EarlyStoppingCallback(tensorflow.keras.callbacks.Callback):\n",
    "\n",
    "    # This method is called at the end of every epoch during training\n",
    "    def on_epoch_end(self, epoch, logs=None):\n",
    "        # logs is a dictionary that contains metrics from the current epoch (including accuracy and val_accuracy)\n",
    "        accuracy = logs.get('accuracy')  # Training accuracy\n",
    "        val_accuracy = logs.get('val_accuracy')  # Validation accuracy\n",
    "\n",
    "        # Check if training accuracy >= 0.95 and validation accuracy >= 0.80\n",
    "        if accuracy >= 0.90 and val_accuracy >= 0.88:\n",
    "            # Stop training\n",
    "            self.model.stop_training = True\n",
    "            print(f\"\\nReached 92% train accuracy and 88% validation accuracy at epoch {epoch+1}, stopping training!\")"
   ]
  },
  {
   "cell_type": "code",
   "execution_count": 28,
   "metadata": {
    "colab": {
     "base_uri": "https://localhost:8080/"
    },
    "id": "XXnZKqr3T6lF",
    "outputId": "49fe022c-32d7-4db2-e3a3-9596e25c14a4"
   },
   "outputs": [
    {
     "name": "stdout",
     "output_type": "stream",
     "text": [
      "Epoch 1/15\n",
      "1013/1013 [==============================] - ETA: 0s - loss: 0.1197 - accuracy: 0.9332\n",
      "Reached 92% train accuracy and 88% validation accuracy at epoch 1, stopping training!\n",
      "1013/1013 [==============================] - 3225s 3s/step - loss: 0.1197 - accuracy: 0.9332 - val_loss: 0.0938 - val_accuracy: 0.9380\n"
     ]
    }
   ],
   "source": [
    "# Fit model\n",
    "history = model.fit(X_train_pad,\n",
    "                    y_train,\n",
    "                    validation_data=(X_val_pad, y_val),\n",
    "                    epochs=15,\n",
    "                    batch_size=256,\n",
    "                    callbacks=[EarlyStoppingCallback()]\n",
    "                   )"
   ]
  },
  {
   "cell_type": "code",
   "execution_count": 35,
   "metadata": {
    "id": "v36auX3CSncu"
   },
   "outputs": [
    {
     "name": "stdout",
     "output_type": "stream",
     "text": [
      "1215/1215 [==============================] - 464s 382ms/step - loss: 0.0906 - accuracy: 0.9402\n"
     ]
    },
    {
     "data": {
      "text/plain": [
       "[0.09057234227657318, 0.9401867985725403]"
      ]
     },
     "execution_count": 35,
     "metadata": {},
     "output_type": "execute_result"
    }
   ],
   "source": [
    "#print the overall loss and accuracy\n",
    "model.evaluate(X_test_pad, y_test)"
   ]
  },
  {
   "cell_type": "code",
   "execution_count": 37,
   "metadata": {
    "id": "x6pMveMrR-35"
   },
   "outputs": [
    {
     "name": "stdout",
     "output_type": "stream",
     "text": [
      "1215/1215 [==============================] - 483s 396ms/step\n"
     ]
    }
   ],
   "source": [
    "predicted = model.predict(X_test_pad)\n",
    "y_pred = predicted.argmax(axis=-1)\n",
    "\n"
   ]
  },
  {
   "cell_type": "code",
   "execution_count": null,
   "metadata": {},
   "outputs": [
    {
     "name": "stdout",
     "output_type": "stream",
     "text": [
      "              precision    recall  f1-score   support\n",
      "\n",
      "           0       0.98      0.97      0.98     11319\n",
      "           1       0.97      0.94      0.95     13145\n",
      "           2       0.81      0.91      0.86      3218\n",
      "           3       0.95      0.93      0.94      5333\n",
      "           4       0.92      0.89      0.91      4454\n",
      "           5       0.77      0.92      0.84      1402\n",
      "\n",
      "    accuracy                           0.94     38871\n",
      "   macro avg       0.90      0.93      0.91     38871\n",
      "weighted avg       0.94      0.94      0.94     38871\n",
      "\n"
     ]
    }
   ],
   "source": [
    "le = LabelEncoder()\n",
    "y_test = np.argmax(y_test, axis=1)\n",
    "print(classification_report(le.fit_transform(y_test), y_pred))"
   ]
  },
  {
   "cell_type": "code",
   "execution_count": null,
   "metadata": {
    "id": "JtQH46vAU___"
   },
   "outputs": [
    {
     "name": "stderr",
     "output_type": "stream",
     "text": [
      "/home/jupyter-220711684/.local/lib/python3.10/site-packages/keras/src/engine/training.py:3103: UserWarning: You are saving your model as an HDF5 file via `model.save()`. This file format is considered legacy. We recommend using instead the native Keras format, e.g. `model.save('my_model.keras')`.\n",
      "  saving_api.save_model(\n"
     ]
    }
   ],
   "source": [
    "model.save('../model/emotion-classification.h5')"
   ]
  }
 ],
 "metadata": {
  "accelerator": "GPU",
  "colab": {
   "gpuType": "T4",
   "provenance": []
  },
  "kaggle": {
   "accelerator": "nvidiaTeslaT4",
   "dataSources": [
    {
     "datasetId": 605165,
     "sourceId": 1085454,
     "sourceType": "datasetVersion"
    }
   ],
   "isGpuEnabled": true,
   "isInternetEnabled": true,
   "language": "python",
   "sourceType": "notebook"
  },
  "kernelspec": {
   "display_name": "Python 3",
   "language": "python",
   "name": "python3"
  },
  "language_info": {
   "codemirror_mode": {
    "name": "ipython",
    "version": 3
   },
   "file_extension": ".py",
   "mimetype": "text/x-python",
   "name": "python",
   "nbconvert_exporter": "python",
   "pygments_lexer": "ipython3",
   "version": "3.12.1"
  }
 },
 "nbformat": 4,
 "nbformat_minor": 4
}
