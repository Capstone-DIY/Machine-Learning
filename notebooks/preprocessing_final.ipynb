{
 "cells": [
  {
   "cell_type": "markdown",
   "metadata": {
    "id": "T8WAE54QT7q7"
   },
   "source": [
    "## PREPROCESSING"
   ]
  },
  {
   "cell_type": "markdown",
   "metadata": {
    "id": "IQqn3KZ-UIle"
   },
   "source": [
    "### Install and Importing Library/Package"
   ]
  },
  {
   "cell_type": "code",
   "execution_count": null,
   "metadata": {
    "id": "DDqwcGnUBdBY"
   },
   "outputs": [],
   "source": [
    "# Installing Library / Packages\n",
    "%pip install tensorflow==2.17.1"
   ]
  },
  {
   "cell_type": "code",
   "execution_count": null,
   "metadata": {},
   "outputs": [],
   "source": [
    "\n",
    "%pip install lime"
   ]
  },
  {
   "cell_type": "code",
   "execution_count": null,
   "metadata": {},
   "outputs": [],
   "source": [
    "import tensorflow as tf\n",
    "print(\"Num GPUs Available: \", len(tf.config.list_physical_devices('GPU')))\n",
    "print(tf.__version__)"
   ]
  },
  {
   "cell_type": "code",
   "execution_count": null,
   "metadata": {
    "_cell_guid": "b1076dfc-b9ad-4769-8c92-a6c4dae69d19",
    "_uuid": "8f2839f25d086af736a60e9eeb907d3b93b6e0e5",
    "colab": {
     "base_uri": "https://localhost:8080/"
    },
    "execution": {
     "iopub.execute_input": "2024-10-10T05:28:37.91271Z",
     "iopub.status.busy": "2024-10-10T05:28:37.912374Z",
     "iopub.status.idle": "2024-10-10T05:29:03.075647Z",
     "shell.execute_reply": "2024-10-10T05:29:03.07463Z",
     "shell.execute_reply.started": "2024-10-10T05:28:37.912676Z"
    },
    "id": "PzxFjIa53Nc2",
    "outputId": "33a64039-1cba-4492-df74-8ca0aa2fc10f",
    "trusted": true
   },
   "outputs": [],
   "source": [
    "import re\n",
    "import nltk\n",
    "import gensim\n",
    "import string\n",
    "import numpy as np\n",
    "import pandas as pd\n",
    "import seaborn as sns\n",
    "import matplotlib.pyplot as plt\n",
    "import plotly.express as px\n",
    "from nltk.corpus import stopwords\n",
    "from nltk.stem import SnowballStemmer, WordNetLemmatizer\n",
    "from sklearn.feature_extraction.text import TfidfVectorizer\n",
    "\n",
    "from sklearn.preprocessing import LabelEncoder\n",
    "from sklearn.model_selection import train_test_split\n",
    "\n",
    "from tensorflow.keras.utils import to_categorical\n",
    "from tensorflow.keras.preprocessing.text import Tokenizer\n",
    "from tensorflow.keras.preprocessing.sequence import pad_sequences\n",
    "\n",
    "from tensorflow.keras.optimizers import Adam\n",
    "from tensorflow.keras.models import Sequential\n",
    "from tensorflow.keras.callbacks import EarlyStopping\n",
    "from tensorflow.keras.layers import Dense, LSTM, Embedding, Bidirectional\n",
    "from tensorflow.keras.utils import plot_model\n",
    "from sklearn.metrics import classification_report\n",
    "\n",
    "\n",
    "#nltk.download(\"stopwords\")\n",
    "nltk.download(\"stopwords\")\n",
    "nltk.download('wordnet')\n",
    "nltk.download('omw-1.4')\n",
    "\n",
    "\n",
    "stop_words = set(stopwords.words(\"english\"))\n",
    "lemmatizer= WordNetLemmatizer()\n",
    "\n",
    "\n",
    "#Lime\n",
    "from lime import lime_text\n",
    "from lime.lime_text import LimeTextExplainer\n",
    "from lime.lime_text import IndexedString,IndexedCharacters\n",
    "from lime.lime_base import LimeBase\n",
    "from lime.lime_text import explanation"
   ]
  },
  {
   "cell_type": "markdown",
   "metadata": {
    "id": "8XFoiHO5bgh0"
   },
   "source": [
    "### Gathering Data"
   ]
  },
  {
   "cell_type": "code",
   "execution_count": null,
   "metadata": {
    "execution": {
     "iopub.execute_input": "2024-10-10T05:29:03.077877Z",
     "iopub.status.busy": "2024-10-10T05:29:03.077223Z",
     "iopub.status.idle": "2024-10-10T05:29:03.169242Z",
     "shell.execute_reply": "2024-10-10T05:29:03.168124Z",
     "shell.execute_reply.started": "2024-10-10T05:29:03.077843Z"
    },
    "id": "rKQHx7ay3Nc3",
    "trusted": true
   },
   "outputs": [],
   "source": [
    "# Read datasets\n",
    "data_train = pd.read_csv('../datasets/raw/train.txt', names=['Text', 'Emotion'], sep=';')\n",
    "data_val = pd.read_csv('../datasets/raw/val.txt', names=['Text', 'Emotion'], sep=';')\n",
    "data_test = pd.read_csv('../datasets/raw/test.txt', names=['Text', 'Emotion'], sep=';')"
   ]
  },
  {
   "cell_type": "code",
   "execution_count": null,
   "metadata": {
    "id": "U612-lFslKjB"
   },
   "outputs": [],
   "source": [
    "data_train = data_train.rename(columns={'Text': 'text', 'Emotion': 'label'})\n",
    "data_val = data_val.rename(columns={'Text': 'text', 'Emotion': 'label'})\n",
    "data_test = data_test.rename(columns={'Text': 'text', 'Emotion': 'label'})"
   ]
  },
  {
   "cell_type": "code",
   "execution_count": null,
   "metadata": {
    "colab": {
     "base_uri": "https://localhost:8080/",
     "height": 206
    },
    "execution": {
     "iopub.execute_input": "2024-10-10T05:29:03.170759Z",
     "iopub.status.busy": "2024-10-10T05:29:03.170413Z",
     "iopub.status.idle": "2024-10-10T05:29:03.188799Z",
     "shell.execute_reply": "2024-10-10T05:29:03.187441Z",
     "shell.execute_reply.started": "2024-10-10T05:29:03.170725Z"
    },
    "id": "bmDYSBl53Nc3",
    "outputId": "cdf4fd06-a642-4e1b-a53a-99f9077a5cf4",
    "trusted": true
   },
   "outputs": [],
   "source": [
    "#print first 5 rows\n",
    "data_train.head()"
   ]
  },
  {
   "cell_type": "code",
   "execution_count": null,
   "metadata": {
    "colab": {
     "base_uri": "https://localhost:8080/"
    },
    "execution": {
     "iopub.execute_input": "2024-10-10T05:29:03.19154Z",
     "iopub.status.busy": "2024-10-10T05:29:03.19125Z",
     "iopub.status.idle": "2024-10-10T05:29:03.196117Z",
     "shell.execute_reply": "2024-10-10T05:29:03.19527Z",
     "shell.execute_reply.started": "2024-10-10T05:29:03.19151Z"
    },
    "id": "P1Cz6ZWa3Nc4",
    "outputId": "eee704ec-1289-4c4c-d800-cdf230c6ac39",
    "trusted": true
   },
   "outputs": [],
   "source": [
    "#print the shape of the data set\n",
    "print(data_train.shape)"
   ]
  },
  {
   "cell_type": "code",
   "execution_count": null,
   "metadata": {
    "colab": {
     "base_uri": "https://localhost:8080/",
     "height": 206
    },
    "execution": {
     "iopub.execute_input": "2024-10-10T05:29:03.22553Z",
     "iopub.status.busy": "2024-10-10T05:29:03.225098Z",
     "iopub.status.idle": "2024-10-10T05:29:03.239393Z",
     "shell.execute_reply": "2024-10-10T05:29:03.23848Z",
     "shell.execute_reply.started": "2024-10-10T05:29:03.225499Z"
    },
    "id": "nWU4e6AQ3Nc5",
    "outputId": "d0ad89fd-380b-4703-c114-87065710b90b",
    "trusted": true
   },
   "outputs": [],
   "source": [
    "#print first 5 rows\n",
    "data_val.head()"
   ]
  },
  {
   "cell_type": "code",
   "execution_count": null,
   "metadata": {
    "colab": {
     "base_uri": "https://localhost:8080/"
    },
    "execution": {
     "iopub.execute_input": "2024-10-10T05:29:03.241149Z",
     "iopub.status.busy": "2024-10-10T05:29:03.240877Z",
     "iopub.status.idle": "2024-10-10T05:29:03.248279Z",
     "shell.execute_reply": "2024-10-10T05:29:03.24723Z",
     "shell.execute_reply.started": "2024-10-10T05:29:03.241116Z"
    },
    "id": "Sej43zM43Nc6",
    "outputId": "8d955484-5c24-4639-a073-6a3867336169",
    "trusted": true
   },
   "outputs": [],
   "source": [
    "#print the shape of the data set\n",
    "print(data_val.shape)"
   ]
  },
  {
   "cell_type": "code",
   "execution_count": null,
   "metadata": {
    "colab": {
     "base_uri": "https://localhost:8080/",
     "height": 206
    },
    "execution": {
     "iopub.execute_input": "2024-10-10T05:29:03.19794Z",
     "iopub.status.busy": "2024-10-10T05:29:03.197201Z",
     "iopub.status.idle": "2024-10-10T05:29:03.214402Z",
     "shell.execute_reply": "2024-10-10T05:29:03.213601Z",
     "shell.execute_reply.started": "2024-10-10T05:29:03.197899Z"
    },
    "id": "oOJcZx5U3Nc4",
    "outputId": "ae3cafb0-f650-4a89-ba19-0471acdfd2b9",
    "trusted": true
   },
   "outputs": [],
   "source": [
    "#print first 5 rows\n",
    "data_test.head()"
   ]
  },
  {
   "cell_type": "code",
   "execution_count": null,
   "metadata": {
    "colab": {
     "base_uri": "https://localhost:8080/"
    },
    "execution": {
     "iopub.execute_input": "2024-10-10T05:29:03.215858Z",
     "iopub.status.busy": "2024-10-10T05:29:03.215538Z",
     "iopub.status.idle": "2024-10-10T05:29:03.22401Z",
     "shell.execute_reply": "2024-10-10T05:29:03.223148Z",
     "shell.execute_reply.started": "2024-10-10T05:29:03.215828Z"
    },
    "id": "eSf1ptO03Nc5",
    "outputId": "42d5b12a-b2f6-47e2-e7da-d0b7e0497368",
    "trusted": true
   },
   "outputs": [],
   "source": [
    "#print the shape of the data set\n",
    "print(data_test.shape)"
   ]
  },
  {
   "cell_type": "markdown",
   "metadata": {
    "id": "OXjOvLLfcvyG"
   },
   "source": [
    "### Assessing Data"
   ]
  },
  {
   "cell_type": "markdown",
   "metadata": {
    "id": "ralQcbRYdcip"
   },
   "source": [
    "#### Melihat informasi sederhana dari data"
   ]
  },
  {
   "cell_type": "code",
   "execution_count": null,
   "metadata": {
    "colab": {
     "base_uri": "https://localhost:8080/"
    },
    "id": "_WPTMfyaeCjR",
    "outputId": "5ba8cc14-c0ca-4100-a71a-6e9ea44649a2"
   },
   "outputs": [],
   "source": [
    "# Melihat informasi sederhana dari data_train\n",
    "data_train.info()"
   ]
  },
  {
   "cell_type": "code",
   "execution_count": null,
   "metadata": {
    "colab": {
     "base_uri": "https://localhost:8080/"
    },
    "id": "1EkWvY34eLGY",
    "outputId": "f6263029-0d5f-482a-acf3-fecad5cca213"
   },
   "outputs": [],
   "source": [
    "# Melihat informasi sederhana dari data_val\n",
    "data_val.info()"
   ]
  },
  {
   "cell_type": "code",
   "execution_count": null,
   "metadata": {
    "colab": {
     "base_uri": "https://localhost:8080/"
    },
    "id": "Fqzilr7jeLQ4",
    "outputId": "d9735c6b-061a-4b2f-c69d-828c30abc828"
   },
   "outputs": [],
   "source": [
    "# Melihat informasi sederhana dari data_test\n",
    "data_test.info()"
   ]
  },
  {
   "cell_type": "markdown",
   "metadata": {
    "id": "EJYQPUWje9ve"
   },
   "source": [
    "#### Melihat Missing Value"
   ]
  },
  {
   "cell_type": "code",
   "execution_count": null,
   "metadata": {
    "colab": {
     "base_uri": "https://localhost:8080/"
    },
    "id": "ITp3P3R4dbST",
    "outputId": "3aac9149-ebd4-46ac-a094-be707e18a9bf"
   },
   "outputs": [],
   "source": [
    "print(\"\\nJumlah Nan Value pada data_train \\n\",data_train.isna().sum())\n",
    "print(\"\\nJumlah Nan Value pada data_val \\n\",data_val.isna().sum())\n",
    "print(\"\\nJumlah Nan Value pada data_test \\n\",data_test.isna().sum())"
   ]
  },
  {
   "cell_type": "markdown",
   "metadata": {
    "id": "8SheG7RvfFVr"
   },
   "source": [
    "#### Mengecek duplikat data"
   ]
  },
  {
   "cell_type": "code",
   "execution_count": null,
   "metadata": {
    "colab": {
     "base_uri": "https://localhost:8080/"
    },
    "id": "UwYTdgq_fW_5",
    "outputId": "d140254c-01c2-4450-b1f4-569aa686b8e0"
   },
   "outputs": [],
   "source": [
    "print(\"\\nJumlah Duplikat Data pada data_train \\n\",data_train.duplicated().sum())\n",
    "print(\"\\nJumlah Duplikat Data pada data_val \\n\",data_val.duplicated().sum())\n",
    "print(\"\\nJumlah Duplikat Data pada data_test \\n\",data_test.duplicated().sum())"
   ]
  },
  {
   "cell_type": "code",
   "execution_count": null,
   "metadata": {
    "colab": {
     "base_uri": "https://localhost:8080/"
    },
    "id": "UkLwtbo7hX28",
    "outputId": "337a518c-f865-4744-9d80-59343643d0a4"
   },
   "outputs": [],
   "source": [
    "print(\"\\nJumlah Duplikat Data pada data_train \\n\",data_train['text'].duplicated().sum())"
   ]
  },
  {
   "cell_type": "markdown",
   "metadata": {
    "id": "CzV89ildflyJ"
   },
   "source": [
    "#### Mengecek detail di setiap kolom dataframe"
   ]
  },
  {
   "cell_type": "code",
   "execution_count": null,
   "metadata": {
    "colab": {
     "base_uri": "https://localhost:8080/",
     "height": 175
    },
    "id": "U1pQtsM8ftG_",
    "outputId": "4b04c484-6c96-4596-e428-df90c3667ecf"
   },
   "outputs": [],
   "source": [
    "data_train.describe()"
   ]
  },
  {
   "cell_type": "code",
   "execution_count": null,
   "metadata": {
    "colab": {
     "base_uri": "https://localhost:8080/",
     "height": 175
    },
    "id": "oXAGhO9TftD9",
    "outputId": "21b0027d-eaaf-4f35-f267-f196bf7c79dd"
   },
   "outputs": [],
   "source": [
    "data_val.describe()"
   ]
  },
  {
   "cell_type": "code",
   "execution_count": null,
   "metadata": {
    "colab": {
     "base_uri": "https://localhost:8080/",
     "height": 175
    },
    "id": "MaULKCn4ftAt",
    "outputId": "e44bdb1e-5d1b-4983-a3e5-d40fcf46f581"
   },
   "outputs": [],
   "source": [
    "data_test.describe()"
   ]
  },
  {
   "cell_type": "code",
   "execution_count": null,
   "metadata": {
    "colab": {
     "base_uri": "https://localhost:8080/",
     "height": 1000
    },
    "id": "HMYzM6qwpQ4c",
    "outputId": "53395df8-c095-4038-b1fe-a6943b7f9511"
   },
   "outputs": [],
   "source": [
    "#print the rows which are duplicated (duplicated in the text but with different emotions)\n",
    "data_train[data_train['text'].duplicated() == True]"
   ]
  },
  {
   "cell_type": "code",
   "execution_count": null,
   "metadata": {
    "colab": {
     "base_uri": "https://localhost:8080/",
     "height": 112
    },
    "id": "Uft_8XbZpSQ5",
    "outputId": "72182afe-fa2f-4c6b-e1a1-01b3bd965577"
   },
   "outputs": [],
   "source": [
    "#print the rows which are duplicated (duplicated in the text but with different emotions)\n",
    "data_val[data_val['text'].duplicated() == True]"
   ]
  },
  {
   "cell_type": "code",
   "execution_count": null,
   "metadata": {
    "colab": {
     "base_uri": "https://localhost:8080/",
     "height": 53
    },
    "id": "Dm5aGkWBpV5F",
    "outputId": "74230aa2-38bb-4582-cfdc-add818c3f76e"
   },
   "outputs": [],
   "source": [
    "#print the rows which are duplicated (duplicated in the text but with different emotions)\n",
    "data_test[data_test['text'].duplicated() == True]"
   ]
  },
  {
   "cell_type": "markdown",
   "metadata": {
    "id": "jT-QHf54gWT3"
   },
   "source": [
    "### Cleaning Data"
   ]
  },
  {
   "cell_type": "markdown",
   "metadata": {
    "id": "OfIOcHfonRJk"
   },
   "source": [
    "#### Melakukan Drop Duplikat Data"
   ]
  },
  {
   "cell_type": "code",
   "execution_count": null,
   "metadata": {
    "colab": {
     "base_uri": "https://localhost:8080/"
    },
    "id": "oaWo_mG6grpB",
    "outputId": "becf2139-1024-4dba-95a1-d7555a6ad68f"
   },
   "outputs": [],
   "source": [
    "print(\"\\nJumlah Duplikat Data pada data_train \\n\",data_train.duplicated().sum())"
   ]
  },
  {
   "cell_type": "code",
   "execution_count": null,
   "metadata": {
    "id": "1Ick_wQBgrlX"
   },
   "outputs": [],
   "source": [
    "data_train.drop_duplicates(inplace=True)\n",
    "data_train.reset_index(drop=True, inplace=True)"
   ]
  },
  {
   "cell_type": "code",
   "execution_count": null,
   "metadata": {
    "id": "EF227O4bgrbp"
   },
   "outputs": [],
   "source": [
    "#removing duplicated text\n",
    "data_train.drop_duplicates(subset=['text'], inplace=True)\n",
    "data_train.reset_index(drop=True, inplace=True)"
   ]
  },
  {
   "cell_type": "code",
   "execution_count": null,
   "metadata": {
    "execution": {
     "iopub.execute_input": "2024-10-10T05:29:05.46907Z",
     "iopub.status.busy": "2024-10-10T05:29:05.468478Z",
     "iopub.status.idle": "2024-10-10T05:29:05.477628Z",
     "shell.execute_reply": "2024-10-10T05:29:05.476763Z",
     "shell.execute_reply.started": "2024-10-10T05:29:05.469021Z"
    },
    "id": "db2mb5pICvZa",
    "trusted": true
   },
   "outputs": [],
   "source": [
    "#removing duplicated text\n",
    "data_val.drop_duplicates(subset=['text'], inplace=True)\n",
    "data_val.reset_index(drop=True, inplace=True)"
   ]
  },
  {
   "cell_type": "markdown",
   "metadata": {
    "id": "QOZyk6ayp7pQ"
   },
   "source": [
    "### EDA"
   ]
  },
  {
   "cell_type": "markdown",
   "metadata": {
    "id": "t08F_c5Kf-P4"
   },
   "source": [
    "#### Mengecek distribusi data di setiap label"
   ]
  },
  {
   "cell_type": "code",
   "execution_count": null,
   "metadata": {
    "colab": {
     "base_uri": "https://localhost:8080/",
     "height": 304
    },
    "execution": {
     "iopub.execute_input": "2024-10-10T05:29:03.276845Z",
     "iopub.status.busy": "2024-10-10T05:29:03.276524Z",
     "iopub.status.idle": "2024-10-10T05:29:03.297294Z",
     "shell.execute_reply": "2024-10-10T05:29:03.296279Z",
     "shell.execute_reply.started": "2024-10-10T05:29:03.276814Z"
    },
    "id": "RC5eZ7-I3Nc7",
    "outputId": "0a95d22f-ac10-4402-a8d8-7eae29eba173",
    "trusted": true
   },
   "outputs": [],
   "source": [
    "data_train.label.value_counts() *100/ len(data_train)"
   ]
  },
  {
   "cell_type": "code",
   "execution_count": null,
   "metadata": {
    "colab": {
     "base_uri": "https://localhost:8080/",
     "height": 542
    },
    "id": "G9PZLOCOdcnw",
    "outputId": "e920dbb2-d2b7-46bd-d9ce-023fdb857bdd"
   },
   "outputs": [],
   "source": [
    "fig = px.histogram(data_train, x=\"label\", title=\"Distribusi Emosi\")\n",
    "fig.show()\n"
   ]
  },
  {
   "cell_type": "code",
   "execution_count": null,
   "metadata": {
    "colab": {
     "base_uri": "https://localhost:8080/",
     "height": 304
    },
    "id": "m-lLFdFWozYO",
    "outputId": "9dc6c10b-9a27-42ce-a9f1-c21ba0ab9c65"
   },
   "outputs": [],
   "source": [
    "data_val.label.value_counts() *100/ len(data_val)"
   ]
  },
  {
   "cell_type": "code",
   "execution_count": null,
   "metadata": {
    "colab": {
     "base_uri": "https://localhost:8080/",
     "height": 542
    },
    "id": "LXO5WA1edhwt",
    "outputId": "ba1aae6b-4a43-4325-e2e0-850903da62a4"
   },
   "outputs": [],
   "source": [
    "fig = px.histogram(data_val, x=\"label\", title=\"Distribusi Emosi\")\n",
    "fig.show()\n"
   ]
  },
  {
   "cell_type": "code",
   "execution_count": null,
   "metadata": {
    "colab": {
     "base_uri": "https://localhost:8080/",
     "height": 304
    },
    "id": "gF9itB3zozRf",
    "outputId": "15437294-5542-40f9-9a92-c020bd0b97a6"
   },
   "outputs": [],
   "source": [
    "data_test.label.value_counts() *100/ len(data_test)"
   ]
  },
  {
   "cell_type": "code",
   "execution_count": null,
   "metadata": {
    "colab": {
     "base_uri": "https://localhost:8080/",
     "height": 542
    },
    "id": "mgO6D5cvdlzT",
    "outputId": "cd08a89c-8251-4e20-ebc0-456803619ebc"
   },
   "outputs": [],
   "source": [
    "fig = px.histogram(data_test, x=\"label\", title=\"Distribusi Emosi\")\n",
    "fig.show()\n"
   ]
  },
  {
   "cell_type": "markdown",
   "metadata": {
    "id": "fh85o2nJry3P"
   },
   "source": [
    "#### Mengecek distribusi stopwords dalam train"
   ]
  },
  {
   "cell_type": "code",
   "execution_count": null,
   "metadata": {
    "colab": {
     "base_uri": "https://localhost:8080/",
     "height": 1000
    },
    "id": "v4npupGfoGvA",
    "outputId": "d14ab5aa-c889-4b81-a146-4e8eba2743bf"
   },
   "outputs": [],
   "source": [
    "data_train['stop_words'] = data_train['text'].apply(lambda x: len([word for word in x.split() if word in stop_words]))\n",
    "data_train.stop_words.value_counts()"
   ]
  },
  {
   "cell_type": "code",
   "execution_count": null,
   "metadata": {
    "colab": {
     "base_uri": "https://localhost:8080/",
     "height": 542
    },
    "id": "46nxD-SweKIU",
    "outputId": "02cb5b1d-5fde-4cbc-bf60-b744fe41fafe"
   },
   "outputs": [],
   "source": [
    "fig = px.histogram(data_train, x=\"stop_words\", title=\"Distribusi Stop Word dalam data train\")\n",
    "fig.show()"
   ]
  },
  {
   "cell_type": "code",
   "execution_count": null,
   "metadata": {
    "colab": {
     "base_uri": "https://localhost:8080/",
     "height": 1000
    },
    "id": "FPMgk4CqodVG",
    "outputId": "b5493e40-3079-4b41-dba6-e75863b83560"
   },
   "outputs": [],
   "source": [
    "data_val['stop_words'] = data_val['text'].apply(lambda x: len([word for word in x.split() if word in stop_words]))\n",
    "data_val.stop_words.value_counts()"
   ]
  },
  {
   "cell_type": "code",
   "execution_count": null,
   "metadata": {
    "colab": {
     "base_uri": "https://localhost:8080/",
     "height": 542
    },
    "id": "okw3DX8ieMW8",
    "outputId": "511edeba-9f81-4211-c210-1efb17ad5e35"
   },
   "outputs": [],
   "source": [
    "fig = px.histogram(data_val, x=\"stop_words\", title=\"Distribusi Stop Word dalam data validasi\")\n",
    "fig.show()"
   ]
  },
  {
   "cell_type": "code",
   "execution_count": null,
   "metadata": {
    "colab": {
     "base_uri": "https://localhost:8080/",
     "height": 1000
    },
    "id": "bIOA322oodM5",
    "outputId": "259769b5-7421-40c3-b9af-83ab91558f2c"
   },
   "outputs": [],
   "source": [
    "data_test['stop_words'] = data_test['text'].apply(lambda x: len([word for word in x.split() if word in stop_words]))\n",
    "data_test.stop_words.value_counts()"
   ]
  },
  {
   "cell_type": "code",
   "execution_count": null,
   "metadata": {
    "colab": {
     "base_uri": "https://localhost:8080/",
     "height": 542
    },
    "id": "uhbIA-OjqDBn",
    "outputId": "aa465283-97f5-4eae-87b4-bba979929bf3"
   },
   "outputs": [],
   "source": [
    "fig = px.histogram(data_test, x=\"stop_words\", title=\"Distribusi Stop Word dalam data uji\")\n",
    "fig.show()"
   ]
  },
  {
   "cell_type": "code",
   "execution_count": null,
   "metadata": {
    "id": "Qt6kTi9cqC-Z"
   },
   "outputs": [],
   "source": []
  },
  {
   "cell_type": "code",
   "execution_count": null,
   "metadata": {
    "id": "FWiD0cHXqC4o"
   },
   "outputs": [],
   "source": []
  },
  {
   "cell_type": "code",
   "execution_count": null,
   "metadata": {
    "id": "x6MU24DzqC1m"
   },
   "outputs": [],
   "source": []
  },
  {
   "cell_type": "code",
   "execution_count": null,
   "metadata": {
    "id": "DUr8Iyv1qCyn"
   },
   "outputs": [],
   "source": []
  },
  {
   "cell_type": "code",
   "execution_count": null,
   "metadata": {
    "id": "E_YGcGeZqCvU"
   },
   "outputs": [],
   "source": []
  },
  {
   "cell_type": "code",
   "execution_count": null,
   "metadata": {
    "id": "ud8Yjj8nqCr4"
   },
   "outputs": [],
   "source": []
  },
  {
   "cell_type": "markdown",
   "metadata": {
    "id": "yeZGEyFkit0i"
   },
   "source": [
    "### Function will be imported"
   ]
  },
  {
   "cell_type": "code",
   "execution_count": null,
   "metadata": {
    "execution": {
     "iopub.execute_input": "2024-10-10T05:29:05.730758Z",
     "iopub.status.busy": "2024-10-10T05:29:05.730458Z",
     "iopub.status.idle": "2024-10-10T05:29:05.74512Z",
     "shell.execute_reply": "2024-10-10T05:29:05.744215Z",
     "shell.execute_reply.started": "2024-10-10T05:29:05.730728Z"
    },
    "id": "w5zO4Ymy3NdG",
    "trusted": true
   },
   "outputs": [],
   "source": [
    "def lemmatization(text):\n",
    "    lemmatizer= WordNetLemmatizer()\n",
    "\n",
    "    text = text.split()\n",
    "\n",
    "    text=[lemmatizer.lemmatize(y) for y in text]\n",
    "\n",
    "    return \" \" .join(text)\n",
    "\n",
    "\n",
    "\n",
    "def remove_stop_words(text):\n",
    "\n",
    "    Text=[i for i in str(text).split() if i not in stop_words]\n",
    "    return \" \".join(Text)\n",
    "\n",
    "\n",
    "\n",
    "def Removing_numbers(text):\n",
    "    text=''.join([i for i in text if not i.isdigit()])\n",
    "    return text\n",
    "\n",
    "\n",
    "\n",
    "def lower_case(text):\n",
    "\n",
    "    text = text.split()\n",
    "\n",
    "    text=[y.lower() for y in text]\n",
    "\n",
    "    return \" \" .join(text)\n",
    "\n",
    "\n",
    "\n",
    "def Removing_punctuations(text):\n",
    "    ## Remove punctuations\n",
    "    text = re.sub('[%s]' % re.escape(\"\"\"!\"#$%&'()*+,،-./:;<=>؟?@[\\]^_`{|}~\"\"\"), ' ', text)\n",
    "    text = text.replace('؛',\"\", )\n",
    "\n",
    "    ## remove extra whitespace\n",
    "    text = re.sub('\\s+', ' ', text)\n",
    "    text =  \" \".join(text.split())\n",
    "    return text.strip()\n",
    "\n",
    "\n",
    "\n",
    "def Removing_urls(text):\n",
    "    url_pattern = re.compile(r'https?://\\S+|www\\.\\S+')\n",
    "    return url_pattern.sub(r'', text)\n",
    "\n",
    "\n",
    "\n",
    "def remove_small_sentences(df):\n",
    "    for i in range(len(df)):\n",
    "        if len(df.text.iloc[i].split()) < 3:\n",
    "            df.text.iloc[i] = np.nan\n",
    "\n",
    "\n",
    "\n",
    "def normalize_text(df):\n",
    "    df.text=df.text.apply(lambda text : lower_case(text))\n",
    "    df.text=df.text.apply(lambda text : remove_stop_words(text))\n",
    "    df.text=df.text.apply(lambda text : Removing_numbers(text))\n",
    "    df.text=df.text.apply(lambda text : Removing_punctuations(text))\n",
    "    df.text=df.text.apply(lambda text : Removing_urls(text))\n",
    "    df.text=df.text.apply(lambda text : lemmatization(text))\n",
    "    return df\n",
    "\n",
    "def normalized_sentence(sentence):\n",
    "    sentence= lower_case(sentence)\n",
    "    sentence= remove_stop_words(sentence)\n",
    "    sentence= Removing_numbers(sentence)\n",
    "    sentence= Removing_punctuations(sentence)\n",
    "    sentence= Removing_urls(sentence)\n",
    "    sentence= lemmatization(sentence)\n",
    "    return sentence\n"
   ]
  },
  {
   "cell_type": "code",
   "execution_count": null,
   "metadata": {
    "execution": {
     "iopub.execute_input": "2024-10-10T05:29:05.746465Z",
     "iopub.status.busy": "2024-10-10T05:29:05.746176Z",
     "iopub.status.idle": "2024-10-10T05:29:07.085748Z",
     "shell.execute_reply": "2024-10-10T05:29:07.08478Z",
     "shell.execute_reply.started": "2024-10-10T05:29:05.74642Z"
    },
    "id": "ko4su9a5R-33",
    "trusted": true
   },
   "outputs": [],
   "source": [
    "# !unzip /usr/share/nltk_data/corpora/wordnet.zip -d /usr/share/nltk_data/corpora/"
   ]
  },
  {
   "cell_type": "markdown",
   "metadata": {
    "id": "c_hMempHi9qN"
   },
   "source": [
    "### Membuat Model"
   ]
  },
  {
   "cell_type": "markdown",
   "metadata": {
    "id": "6rBJ5XBNjDeb"
   },
   "source": [
    "#### Mengaplikasikan fungsi normalisasi untuk teks"
   ]
  },
  {
   "cell_type": "code",
   "execution_count": null,
   "metadata": {
    "execution": {
     "iopub.execute_input": "2024-10-10T05:29:09.384163Z",
     "iopub.status.busy": "2024-10-10T05:29:09.383805Z",
     "iopub.status.idle": "2024-10-10T05:29:11.177133Z",
     "shell.execute_reply": "2024-10-10T05:29:11.176161Z",
     "shell.execute_reply.started": "2024-10-10T05:29:09.384126Z"
    },
    "id": "hvJmYQq53NdH",
    "trusted": true
   },
   "outputs": [],
   "source": [
    "data_train = normalize_text(data_train)\n",
    "data_test = normalize_text(data_test)\n",
    "data_val = normalize_text(data_val)"
   ]
  },
  {
   "cell_type": "code",
   "execution_count": null,
   "metadata": {
    "execution": {
     "iopub.execute_input": "2024-10-10T05:29:11.179069Z",
     "iopub.status.busy": "2024-10-10T05:29:11.178429Z",
     "iopub.status.idle": "2024-10-10T05:29:11.184788Z",
     "shell.execute_reply": "2024-10-10T05:29:11.183781Z",
     "shell.execute_reply.started": "2024-10-10T05:29:11.179025Z"
    },
    "id": "Zdhx3YrG3NdM",
    "trusted": true
   },
   "outputs": [],
   "source": [
    "#Splitting the text from the labels\n",
    "X_train = data_train['text']\n",
    "y_train = data_train['label']\n",
    "\n",
    "X_test = data_test['text']\n",
    "y_test = data_test['label']\n",
    "\n",
    "X_val = data_val['text']\n",
    "y_val = data_val['label']"
   ]
  },
  {
   "cell_type": "markdown",
   "metadata": {
    "id": "SK4F2od3jSCd"
   },
   "source": [
    "#### Encode Labels"
   ]
  },
  {
   "cell_type": "code",
   "execution_count": null,
   "metadata": {
    "execution": {
     "iopub.execute_input": "2024-10-10T05:29:11.186348Z",
     "iopub.status.busy": "2024-10-10T05:29:11.185962Z",
     "iopub.status.idle": "2024-10-10T05:29:11.199856Z",
     "shell.execute_reply": "2024-10-10T05:29:11.199006Z",
     "shell.execute_reply.started": "2024-10-10T05:29:11.186316Z"
    },
    "id": "r1SeMczfR_OO",
    "trusted": true
   },
   "outputs": [],
   "source": [
    "le = LabelEncoder()\n",
    "y_train = le.fit_transform(y_train)\n",
    "y_test = le.transform(y_test)\n",
    "y_val = le.transform(y_val)"
   ]
  },
  {
   "cell_type": "code",
   "execution_count": null,
   "metadata": {
    "execution": {
     "iopub.execute_input": "2024-10-10T05:29:11.201185Z",
     "iopub.status.busy": "2024-10-10T05:29:11.200922Z",
     "iopub.status.idle": "2024-10-10T05:29:11.210932Z",
     "shell.execute_reply": "2024-10-10T05:29:11.210033Z",
     "shell.execute_reply.started": "2024-10-10T05:29:11.201157Z"
    },
    "id": "1bHHwU35R_R2",
    "trusted": true
   },
   "outputs": [],
   "source": [
    "#Convert the class vector (integers) to binary class matrix\n",
    "y_train = to_categorical(y_train)\n",
    "y_test = to_categorical(y_test)\n",
    "y_val = to_categorical(y_val)"
   ]
  },
  {
   "cell_type": "code",
   "execution_count": null,
   "metadata": {
    "execution": {
     "iopub.execute_input": "2024-10-10T05:29:11.212849Z",
     "iopub.status.busy": "2024-10-10T05:29:11.212198Z",
     "iopub.status.idle": "2024-10-10T05:29:11.855084Z",
     "shell.execute_reply": "2024-10-10T05:29:11.854063Z",
     "shell.execute_reply.started": "2024-10-10T05:29:11.212803Z"
    },
    "id": "jUpgwjwkQXWS",
    "trusted": true
   },
   "outputs": [],
   "source": [
    "MAX_LENGTH = 500\n",
    "\n",
    "# Create a tokenizer\n",
    "tokenizer = Tokenizer(oov_token='UNK')\n",
    "# Fit the tokenizer on the training data\n",
    "tokenizer.fit_on_texts(X_train)\n",
    "# Convert text to sequences of tokens\n",
    "X_train_seq = tokenizer.texts_to_sequences(X_train)\n",
    "X_test_seq = tokenizer.texts_to_sequences(X_test)\n",
    "X_val_seq = tokenizer.texts_to_sequences(X_val)\n",
    "# Pad sequences to ensure equal length\n",
    "X_train_pad = pad_sequences(X_train_seq, maxlen=MAX_LENGTH, truncating='pre')\n",
    "X_test_pad = pad_sequences(X_test_seq, maxlen=MAX_LENGTH, truncating='pre')\n",
    "X_val_pad = pad_sequences(X_val_seq, maxlen=MAX_LENGTH, truncating='pre')"
   ]
  },
  {
   "cell_type": "code",
   "execution_count": null,
   "metadata": {
    "execution": {
     "iopub.execute_input": "2024-10-10T05:29:11.85676Z",
     "iopub.status.busy": "2024-10-10T05:29:11.856361Z",
     "iopub.status.idle": "2024-10-10T05:29:12.778095Z",
     "shell.execute_reply": "2024-10-10T05:29:12.777226Z",
     "shell.execute_reply.started": "2024-10-10T05:29:11.85672Z"
    },
    "id": "-nIiqByRQZOi",
    "trusted": true
   },
   "outputs": [],
   "source": [
    "# Train Word2Vec model\n",
    "sentences = [text.split() for text in X_train]\n",
    "w2v_model = gensim.models.Word2Vec(sentences, vector_size=200, window=5, min_count=5, workers=4)\n",
    "\n",
    "# Create embedding matrix\n",
    "embedding_matrix = np.zeros((len(tokenizer.word_index) + 1, 200))\n",
    "for word, i in tokenizer.word_index.items():\n",
    "    if word in w2v_model.wv:\n",
    "        embedding_matrix[i] = w2v_model.wv[word]"
   ]
  },
  {
   "cell_type": "code",
   "execution_count": null,
   "metadata": {
    "colab": {
     "base_uri": "https://localhost:8080/",
     "height": 341
    },
    "execution": {
     "iopub.execute_input": "2024-10-10T05:29:12.779715Z",
     "iopub.status.busy": "2024-10-10T05:29:12.779341Z",
     "iopub.status.idle": "2024-10-10T05:29:13.700042Z",
     "shell.execute_reply": "2024-10-10T05:29:13.699172Z",
     "shell.execute_reply.started": "2024-10-10T05:29:12.779677Z"
    },
    "id": "0uHMk5sbTAXr",
    "outputId": "aba2d144-1d6a-4b38-a675-30d18948e622",
    "trusted": true
   },
   "outputs": [],
   "source": [
    "# Build neural network architecture\n",
    "\n",
    "adam = Adam(learning_rate=0.005)\n",
    "\n",
    "# Define vocabSize\n",
    "vocabSize = len(tokenizer.word_index) + 1  # +1 for the padding token or OOV token\n",
    "\n",
    "model = Sequential()\n",
    "model.add(Embedding(vocabSize, 200, weights=[embedding_matrix])) # Use X_train_pad to get shape\n",
    "model.add(Bidirectional(LSTM(256, dropout=0.2,recurrent_dropout=0.2, return_sequences=True)))\n",
    "model.add(Bidirectional(LSTM(128, dropout=0.2,recurrent_dropout=0.2)))\n",
    "model.add(Dense(6, activation='softmax'))\n",
    "\n",
    "model.compile(loss='categorical_crossentropy', optimizer=adam, metrics=['accuracy'])\n",
    "\n",
    "model.summary()"
   ]
  },
  {
   "cell_type": "code",
   "execution_count": null,
   "metadata": {
    "execution": {
     "iopub.execute_input": "2024-10-10T05:29:13.701744Z",
     "iopub.status.busy": "2024-10-10T05:29:13.701345Z",
     "iopub.status.idle": "2024-10-10T05:29:13.706307Z",
     "shell.execute_reply": "2024-10-10T05:29:13.705399Z",
     "shell.execute_reply.started": "2024-10-10T05:29:13.701702Z"
    },
    "id": "lNRWycYVTKDx",
    "trusted": true
   },
   "outputs": [],
   "source": [
    "#to stop the training when the loss starts to increase\n",
    "callback = EarlyStopping(\n",
    "    monitor=\"val_loss\",\n",
    "    patience=4,\n",
    "    restore_best_weights=True,\n",
    ")"
   ]
  },
  {
   "cell_type": "code",
   "execution_count": null,
   "metadata": {
    "colab": {
     "base_uri": "https://localhost:8080/"
    },
    "execution": {
     "iopub.execute_input": "2024-10-10T05:29:13.707745Z",
     "iopub.status.busy": "2024-10-10T05:29:13.707456Z",
     "iopub.status.idle": "2024-10-10T05:38:19.783996Z",
     "shell.execute_reply": "2024-10-10T05:38:19.782954Z",
     "shell.execute_reply.started": "2024-10-10T05:29:13.707715Z"
    },
    "id": "XXnZKqr3T6lF",
    "outputId": "2dc30c09-de1f-42c7-b35d-69f5a386af67",
    "trusted": true
   },
   "outputs": [],
   "source": [
    "# Fit model\n",
    "history = model.fit(X_train_pad,\n",
    "                    y_train,\n",
    "                    validation_data=(X_val_pad, y_val),\n",
    "                    verbose=1,\n",
    "                    batch_size=256,\n",
    "                    epochs=10,\n",
    "                    callbacks=[callback]\n",
    "                   )"
   ]
  },
  {
   "cell_type": "code",
   "execution_count": null,
   "metadata": {
    "execution": {
     "iopub.execute_input": "2024-10-10T05:38:19.786253Z",
     "iopub.status.busy": "2024-10-10T05:38:19.785529Z",
     "iopub.status.idle": "2024-10-10T05:38:19.995417Z",
     "shell.execute_reply": "2024-10-10T05:38:19.994547Z",
     "shell.execute_reply.started": "2024-10-10T05:38:19.786205Z"
    },
    "id": "FskW-d3bR-35",
    "trusted": true
   },
   "outputs": [],
   "source": [
    "plot_model(model, show_shapes=True, dpi=80)"
   ]
  },
  {
   "cell_type": "code",
   "execution_count": null,
   "metadata": {
    "execution": {
     "iopub.execute_input": "2024-10-10T05:38:19.997423Z",
     "iopub.status.busy": "2024-10-10T05:38:19.996802Z",
     "iopub.status.idle": "2024-10-10T05:38:34.042869Z",
     "shell.execute_reply": "2024-10-10T05:38:34.04195Z",
     "shell.execute_reply.started": "2024-10-10T05:38:19.997378Z"
    },
    "id": "v36auX3CSncu",
    "trusted": true
   },
   "outputs": [],
   "source": [
    "#print the overall loss and accuracy\n",
    "model.evaluate(X_test_pad, y_test)"
   ]
  },
  {
   "cell_type": "code",
   "execution_count": null,
   "metadata": {
    "execution": {
     "iopub.execute_input": "2024-10-10T05:38:34.044155Z",
     "iopub.status.busy": "2024-10-10T05:38:34.043871Z",
     "iopub.status.idle": "2024-10-10T05:38:34.052892Z",
     "shell.execute_reply": "2024-10-10T05:38:34.051984Z",
     "shell.execute_reply.started": "2024-10-10T05:38:34.044126Z"
    },
    "id": "RMgNUR63R-35",
    "trusted": true
   },
   "outputs": [],
   "source": [
    "data_test['label'].value_counts()"
   ]
  },
  {
   "cell_type": "code",
   "execution_count": null,
   "metadata": {
    "execution": {
     "iopub.execute_input": "2024-10-10T05:38:34.054479Z",
     "iopub.status.busy": "2024-10-10T05:38:34.054175Z",
     "iopub.status.idle": "2024-10-10T05:38:49.63658Z",
     "shell.execute_reply": "2024-10-10T05:38:49.635628Z",
     "shell.execute_reply.started": "2024-10-10T05:38:34.054448Z"
    },
    "id": "x6pMveMrR-35",
    "trusted": true
   },
   "outputs": [],
   "source": [
    "predicted = model.predict(X_test_pad)\n",
    "y_pred = predicted.argmax(axis=-1)\n",
    "\n",
    "print(classification_report(le.transform(data_test['label']), y_pred))"
   ]
  },
  {
   "cell_type": "code",
   "execution_count": null,
   "metadata": {
    "execution": {
     "iopub.execute_input": "2024-10-10T05:38:49.638074Z",
     "iopub.status.busy": "2024-10-10T05:38:49.637762Z",
     "iopub.status.idle": "2024-10-10T05:38:50.258617Z",
     "shell.execute_reply": "2024-10-10T05:38:50.257744Z",
     "shell.execute_reply.started": "2024-10-10T05:38:49.638041Z"
    },
    "id": "4RmOn37iR-35",
    "trusted": true
   },
   "outputs": [],
   "source": [
    "# Visualize Loss & Accuracy\n",
    "\n",
    "acc = history.history['accuracy']\n",
    "val_acc = history.history['val_accuracy']\n",
    "loss = history.history['loss']\n",
    "val_loss = history.history['val_loss']\n",
    "\n",
    "epochs = range(len(acc))\n",
    "\n",
    "plt.plot(epochs, acc, 'r', label='Training accuracy')\n",
    "plt.plot(epochs, val_acc, 'b', label='Validation accuracy')\n",
    "plt.title('Training and validation accuracy')\n",
    "plt.legend()\n",
    "plt.figure()\n",
    "\n",
    "plt.plot(epochs, loss, 'r', label='Training Loss')\n",
    "plt.plot(epochs, val_loss, 'b', label='Validation Loss')\n",
    "plt.title('Training and validation loss')\n",
    "plt.legend()\n",
    "\n",
    "plt.show()"
   ]
  }
 ],
 "metadata": {
  "colab": {
   "provenance": [],
   "toc_visible": true
  },
  "kaggle": {
   "accelerator": "nvidiaTeslaT4",
   "dataSources": [
    {
     "datasetId": 605165,
     "sourceId": 1085454,
     "sourceType": "datasetVersion"
    }
   ],
   "isGpuEnabled": true,
   "isInternetEnabled": true,
   "language": "python",
   "sourceType": "notebook"
  },
  "kernelspec": {
   "display_name": ".venv",
   "language": "python",
   "name": "python3"
  },
  "language_info": {
   "codemirror_mode": {
    "name": "ipython",
    "version": 3
   },
   "file_extension": ".py",
   "mimetype": "text/x-python",
   "name": "python",
   "nbconvert_exporter": "python",
   "pygments_lexer": "ipython3",
   "version": "3.10.0"
  }
 },
 "nbformat": 4,
 "nbformat_minor": 0
}
